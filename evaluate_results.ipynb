{
 "cells": [
  {
   "cell_type": "code",
   "execution_count": 1,
   "metadata": {},
   "outputs": [
    {
     "name": "stderr",
     "output_type": "stream",
     "text": [
      "c:\\cdrift-evaluation\\venv\\Lib\\site-packages\\tqdm\\auto.py:21: TqdmWarning: IProgress not found. Please update jupyter and ipywidgets. See https://ipywidgets.readthedocs.io/en/stable/user_install.html\n",
      "  from .autonotebook import tqdm as notebook_tqdm\n"
     ]
    }
   ],
   "source": [
    "import matplotlib.pyplot as plt\n",
    "import pandas as pd\n",
    "from cdrift import evaluation\n",
    "from cdrift.utils.helpers import readCSV_Lists, convertToTimedelta, importLog\n",
    "import numpy as np\n",
    "from datetime import datetime\n",
    "from statistics import mean, harmonic_mean, stdev\n",
    "from scipy.stats import iqr\n",
    "from typing import List\n",
    "import seaborn as sns\n",
    "import re\n",
    "import os\n",
    "from pathlib import Path\n",
    "\n",
    "LAG_WINDOW = 200\n",
    "MIN_SUPPORT = 1 # Minimum support for latency calculation --> a parameter setting must have at least 3 instances where a true positive was detected before it can be deemed the \"best parameter setting\" for latency calculation\n",
    "\n",
    "CSV_PATH = \"algorithm_results.csv\"\n",
    "OUT_PATH = \"Evaluation_Results\"\n",
    "\n",
    "plt.rcParams['pdf.fonttype'] = 42\n",
    "plt.rcParams['ps.fonttype'] = 42"
   ]
  },
  {
   "cell_type": "markdown",
   "metadata": {},
   "source": [
    "## Preprocessing"
   ]
  },
  {
   "cell_type": "code",
   "execution_count": 2,
   "metadata": {},
   "outputs": [
    {
     "ename": "ValueError",
     "evalue": "malformed node or string on line 1: <ast.Call object at 0x000001FDF302DFD0>",
     "output_type": "error",
     "traceback": [
      "\u001b[31m---------------------------------------------------------------------------\u001b[39m",
      "\u001b[31mValueError\u001b[39m                                Traceback (most recent call last)",
      "\u001b[36mCell\u001b[39m\u001b[36m \u001b[39m\u001b[32mIn[2]\u001b[39m\u001b[32m, line 1\u001b[39m\n\u001b[32m----> \u001b[39m\u001b[32m1\u001b[39m df = \u001b[43mreadCSV_Lists\u001b[49m\u001b[43m(\u001b[49m\u001b[43mCSV_PATH\u001b[49m\u001b[43m)\u001b[49m\n\u001b[32m      2\u001b[39m df.copy()\n",
      "\u001b[36mFile \u001b[39m\u001b[32mc:\\cdrift-evaluation\\cdrift\\utils\\helpers.py:205\u001b[39m, in \u001b[36mreadCSV_Lists\u001b[39m\u001b[34m(path)\u001b[39m\n\u001b[32m    195\u001b[39m \u001b[38;5;28;01mdef\u001b[39;00m\u001b[38;5;250m \u001b[39m\u001b[34mreadCSV_Lists\u001b[39m(path:Any)->pd.DataFrame:\n\u001b[32m    196\u001b[39m \u001b[38;5;250m    \u001b[39m\u001b[33;03m\"\"\"A helper function to read a csv file and automatically convert the \"Detected Changepoints\" and \"Actual Changepoints for Log\" columns to Lists, and the \"Duration\" column to a datetime.timedelta.\u001b[39;00m\n\u001b[32m    197\u001b[39m \n\u001b[32m    198\u001b[39m \u001b[33;03m    Args:\u001b[39;00m\n\u001b[32m   (...)\u001b[39m\u001b[32m    202\u001b[39m \u001b[33;03m        pd.Dataframe: The csv file as a pandas dataframe.\u001b[39;00m\n\u001b[32m    203\u001b[39m \u001b[33;03m    \"\"\"\u001b[39;00m\n\u001b[32m--> \u001b[39m\u001b[32m205\u001b[39m     \u001b[38;5;28;01mreturn\u001b[39;00m \u001b[43mpd\u001b[49m\u001b[43m.\u001b[49m\u001b[43mread_csv\u001b[49m\u001b[43m(\u001b[49m\u001b[43mpath\u001b[49m\u001b[43m,\u001b[49m\u001b[43m \u001b[49m\u001b[43mconverters\u001b[49m\u001b[43m=\u001b[49m\u001b[43m{\u001b[49m\u001b[33;43m\"\u001b[39;49m\u001b[33;43mDetected Changepoints\u001b[39;49m\u001b[33;43m\"\u001b[39;49m\u001b[43m:\u001b[49m\u001b[43mast\u001b[49m\u001b[43m.\u001b[49m\u001b[43mliteral_eval\u001b[49m\u001b[43m,\u001b[49m\u001b[43m \u001b[49m\u001b[33;43m\"\u001b[39;49m\u001b[33;43mActual Changepoints for Log\u001b[39;49m\u001b[33;43m\"\u001b[39;49m\u001b[43m:\u001b[49m\u001b[43mast\u001b[49m\u001b[43m.\u001b[49m\u001b[43mliteral_eval\u001b[49m\u001b[43m,\u001b[49m\u001b[43m \u001b[49m\u001b[33;43m\"\u001b[39;49m\u001b[33;43mDuration\u001b[39;49m\u001b[33;43m\"\u001b[39;49m\u001b[43m:\u001b[49m\u001b[43mconvertToTimedelta\u001b[49m\u001b[43m}\u001b[49m\u001b[43m)\u001b[49m\n",
      "\u001b[36mFile \u001b[39m\u001b[32mc:\\cdrift-evaluation\\venv\\Lib\\site-packages\\pandas\\io\\parsers\\readers.py:1026\u001b[39m, in \u001b[36mread_csv\u001b[39m\u001b[34m(filepath_or_buffer, sep, delimiter, header, names, index_col, usecols, dtype, engine, converters, true_values, false_values, skipinitialspace, skiprows, skipfooter, nrows, na_values, keep_default_na, na_filter, verbose, skip_blank_lines, parse_dates, infer_datetime_format, keep_date_col, date_parser, date_format, dayfirst, cache_dates, iterator, chunksize, compression, thousands, decimal, lineterminator, quotechar, quoting, doublequote, escapechar, comment, encoding, encoding_errors, dialect, on_bad_lines, delim_whitespace, low_memory, memory_map, float_precision, storage_options, dtype_backend)\u001b[39m\n\u001b[32m   1013\u001b[39m kwds_defaults = _refine_defaults_read(\n\u001b[32m   1014\u001b[39m     dialect,\n\u001b[32m   1015\u001b[39m     delimiter,\n\u001b[32m   (...)\u001b[39m\u001b[32m   1022\u001b[39m     dtype_backend=dtype_backend,\n\u001b[32m   1023\u001b[39m )\n\u001b[32m   1024\u001b[39m kwds.update(kwds_defaults)\n\u001b[32m-> \u001b[39m\u001b[32m1026\u001b[39m \u001b[38;5;28;01mreturn\u001b[39;00m \u001b[43m_read\u001b[49m\u001b[43m(\u001b[49m\u001b[43mfilepath_or_buffer\u001b[49m\u001b[43m,\u001b[49m\u001b[43m \u001b[49m\u001b[43mkwds\u001b[49m\u001b[43m)\u001b[49m\n",
      "\u001b[36mFile \u001b[39m\u001b[32mc:\\cdrift-evaluation\\venv\\Lib\\site-packages\\pandas\\io\\parsers\\readers.py:626\u001b[39m, in \u001b[36m_read\u001b[39m\u001b[34m(filepath_or_buffer, kwds)\u001b[39m\n\u001b[32m    623\u001b[39m     \u001b[38;5;28;01mreturn\u001b[39;00m parser\n\u001b[32m    625\u001b[39m \u001b[38;5;28;01mwith\u001b[39;00m parser:\n\u001b[32m--> \u001b[39m\u001b[32m626\u001b[39m     \u001b[38;5;28;01mreturn\u001b[39;00m \u001b[43mparser\u001b[49m\u001b[43m.\u001b[49m\u001b[43mread\u001b[49m\u001b[43m(\u001b[49m\u001b[43mnrows\u001b[49m\u001b[43m)\u001b[49m\n",
      "\u001b[36mFile \u001b[39m\u001b[32mc:\\cdrift-evaluation\\venv\\Lib\\site-packages\\pandas\\io\\parsers\\readers.py:1923\u001b[39m, in \u001b[36mTextFileReader.read\u001b[39m\u001b[34m(self, nrows)\u001b[39m\n\u001b[32m   1916\u001b[39m nrows = validate_integer(\u001b[33m\"\u001b[39m\u001b[33mnrows\u001b[39m\u001b[33m\"\u001b[39m, nrows)\n\u001b[32m   1917\u001b[39m \u001b[38;5;28;01mtry\u001b[39;00m:\n\u001b[32m   1918\u001b[39m     \u001b[38;5;66;03m# error: \"ParserBase\" has no attribute \"read\"\u001b[39;00m\n\u001b[32m   1919\u001b[39m     (\n\u001b[32m   1920\u001b[39m         index,\n\u001b[32m   1921\u001b[39m         columns,\n\u001b[32m   1922\u001b[39m         col_dict,\n\u001b[32m-> \u001b[39m\u001b[32m1923\u001b[39m     ) = \u001b[38;5;28;43mself\u001b[39;49m\u001b[43m.\u001b[49m\u001b[43m_engine\u001b[49m\u001b[43m.\u001b[49m\u001b[43mread\u001b[49m\u001b[43m(\u001b[49m\u001b[43m  \u001b[49m\u001b[38;5;66;43;03m# type: ignore[attr-defined]\u001b[39;49;00m\n\u001b[32m   1924\u001b[39m \u001b[43m        \u001b[49m\u001b[43mnrows\u001b[49m\n\u001b[32m   1925\u001b[39m \u001b[43m    \u001b[49m\u001b[43m)\u001b[49m\n\u001b[32m   1926\u001b[39m \u001b[38;5;28;01mexcept\u001b[39;00m \u001b[38;5;167;01mException\u001b[39;00m:\n\u001b[32m   1927\u001b[39m     \u001b[38;5;28mself\u001b[39m.close()\n",
      "\u001b[36mFile \u001b[39m\u001b[32mc:\\cdrift-evaluation\\venv\\Lib\\site-packages\\pandas\\io\\parsers\\c_parser_wrapper.py:234\u001b[39m, in \u001b[36mCParserWrapper.read\u001b[39m\u001b[34m(self, nrows)\u001b[39m\n\u001b[32m    232\u001b[39m \u001b[38;5;28;01mtry\u001b[39;00m:\n\u001b[32m    233\u001b[39m     \u001b[38;5;28;01mif\u001b[39;00m \u001b[38;5;28mself\u001b[39m.low_memory:\n\u001b[32m--> \u001b[39m\u001b[32m234\u001b[39m         chunks = \u001b[38;5;28;43mself\u001b[39;49m\u001b[43m.\u001b[49m\u001b[43m_reader\u001b[49m\u001b[43m.\u001b[49m\u001b[43mread_low_memory\u001b[49m\u001b[43m(\u001b[49m\u001b[43mnrows\u001b[49m\u001b[43m)\u001b[49m\n\u001b[32m    235\u001b[39m         \u001b[38;5;66;03m# destructive to chunks\u001b[39;00m\n\u001b[32m    236\u001b[39m         data = _concatenate_chunks(chunks)\n",
      "\u001b[36mFile \u001b[39m\u001b[32mpandas/_libs/parsers.pyx:838\u001b[39m, in \u001b[36mpandas._libs.parsers.TextReader.read_low_memory\u001b[39m\u001b[34m()\u001b[39m\n",
      "\u001b[36mFile \u001b[39m\u001b[32mpandas/_libs/parsers.pyx:921\u001b[39m, in \u001b[36mpandas._libs.parsers.TextReader._read_rows\u001b[39m\u001b[34m()\u001b[39m\n",
      "\u001b[36mFile \u001b[39m\u001b[32mpandas/_libs/parsers.pyx:1045\u001b[39m, in \u001b[36mpandas._libs.parsers.TextReader._convert_column_data\u001b[39m\u001b[34m()\u001b[39m\n",
      "\u001b[36mFile \u001b[39m\u001b[32mpandas/_libs/parsers.pyx:2116\u001b[39m, in \u001b[36mpandas._libs.parsers._apply_converter\u001b[39m\u001b[34m()\u001b[39m\n",
      "\u001b[36mFile \u001b[39m\u001b[32m~\\AppData\\Local\\Programs\\Python\\Python313\\Lib\\ast.py:114\u001b[39m, in \u001b[36mliteral_eval\u001b[39m\u001b[34m(node_or_string)\u001b[39m\n\u001b[32m    112\u001b[39m                 \u001b[38;5;28;01mreturn\u001b[39;00m left - right\n\u001b[32m    113\u001b[39m     \u001b[38;5;28;01mreturn\u001b[39;00m _convert_signed_num(node)\n\u001b[32m--> \u001b[39m\u001b[32m114\u001b[39m \u001b[38;5;28;01mreturn\u001b[39;00m \u001b[43m_convert\u001b[49m\u001b[43m(\u001b[49m\u001b[43mnode_or_string\u001b[49m\u001b[43m)\u001b[49m\n",
      "\u001b[36mFile \u001b[39m\u001b[32m~\\AppData\\Local\\Programs\\Python\\Python313\\Lib\\ast.py:94\u001b[39m, in \u001b[36mliteral_eval.<locals>._convert\u001b[39m\u001b[34m(node)\u001b[39m\n\u001b[32m     92\u001b[39m     \u001b[38;5;28;01mreturn\u001b[39;00m \u001b[38;5;28mtuple\u001b[39m(\u001b[38;5;28mmap\u001b[39m(_convert, node.elts))\n\u001b[32m     93\u001b[39m \u001b[38;5;28;01melif\u001b[39;00m \u001b[38;5;28misinstance\u001b[39m(node, List):\n\u001b[32m---> \u001b[39m\u001b[32m94\u001b[39m     \u001b[38;5;28;01mreturn\u001b[39;00m \u001b[38;5;28;43mlist\u001b[39;49m\u001b[43m(\u001b[49m\u001b[38;5;28;43mmap\u001b[39;49m\u001b[43m(\u001b[49m\u001b[43m_convert\u001b[49m\u001b[43m,\u001b[49m\u001b[43m \u001b[49m\u001b[43mnode\u001b[49m\u001b[43m.\u001b[49m\u001b[43melts\u001b[49m\u001b[43m)\u001b[49m\u001b[43m)\u001b[49m\n\u001b[32m     95\u001b[39m \u001b[38;5;28;01melif\u001b[39;00m \u001b[38;5;28misinstance\u001b[39m(node, Set):\n\u001b[32m     96\u001b[39m     \u001b[38;5;28;01mreturn\u001b[39;00m \u001b[38;5;28mset\u001b[39m(\u001b[38;5;28mmap\u001b[39m(_convert, node.elts))\n",
      "\u001b[36mFile \u001b[39m\u001b[32m~\\AppData\\Local\\Programs\\Python\\Python313\\Lib\\ast.py:113\u001b[39m, in \u001b[36mliteral_eval.<locals>._convert\u001b[39m\u001b[34m(node)\u001b[39m\n\u001b[32m    111\u001b[39m         \u001b[38;5;28;01melse\u001b[39;00m:\n\u001b[32m    112\u001b[39m             \u001b[38;5;28;01mreturn\u001b[39;00m left - right\n\u001b[32m--> \u001b[39m\u001b[32m113\u001b[39m \u001b[38;5;28;01mreturn\u001b[39;00m \u001b[43m_convert_signed_num\u001b[49m\u001b[43m(\u001b[49m\u001b[43mnode\u001b[49m\u001b[43m)\u001b[49m\n",
      "\u001b[36mFile \u001b[39m\u001b[32m~\\AppData\\Local\\Programs\\Python\\Python313\\Lib\\ast.py:87\u001b[39m, in \u001b[36mliteral_eval.<locals>._convert_signed_num\u001b[39m\u001b[34m(node)\u001b[39m\n\u001b[32m     85\u001b[39m     \u001b[38;5;28;01melse\u001b[39;00m:\n\u001b[32m     86\u001b[39m         \u001b[38;5;28;01mreturn\u001b[39;00m - operand\n\u001b[32m---> \u001b[39m\u001b[32m87\u001b[39m \u001b[38;5;28;01mreturn\u001b[39;00m \u001b[43m_convert_num\u001b[49m\u001b[43m(\u001b[49m\u001b[43mnode\u001b[49m\u001b[43m)\u001b[49m\n",
      "\u001b[36mFile \u001b[39m\u001b[32m~\\AppData\\Local\\Programs\\Python\\Python313\\Lib\\ast.py:78\u001b[39m, in \u001b[36mliteral_eval.<locals>._convert_num\u001b[39m\u001b[34m(node)\u001b[39m\n\u001b[32m     76\u001b[39m \u001b[38;5;28;01mdef\u001b[39;00m\u001b[38;5;250m \u001b[39m\u001b[34m_convert_num\u001b[39m(node):\n\u001b[32m     77\u001b[39m     \u001b[38;5;28;01mif\u001b[39;00m \u001b[38;5;129;01mnot\u001b[39;00m \u001b[38;5;28misinstance\u001b[39m(node, Constant) \u001b[38;5;129;01mor\u001b[39;00m \u001b[38;5;28mtype\u001b[39m(node.value) \u001b[38;5;129;01mnot\u001b[39;00m \u001b[38;5;129;01min\u001b[39;00m (\u001b[38;5;28mint\u001b[39m, \u001b[38;5;28mfloat\u001b[39m, \u001b[38;5;28mcomplex\u001b[39m):\n\u001b[32m---> \u001b[39m\u001b[32m78\u001b[39m         \u001b[43m_raise_malformed_node\u001b[49m\u001b[43m(\u001b[49m\u001b[43mnode\u001b[49m\u001b[43m)\u001b[49m\n\u001b[32m     79\u001b[39m     \u001b[38;5;28;01mreturn\u001b[39;00m node.value\n",
      "\u001b[36mFile \u001b[39m\u001b[32m~\\AppData\\Local\\Programs\\Python\\Python313\\Lib\\ast.py:75\u001b[39m, in \u001b[36mliteral_eval.<locals>._raise_malformed_node\u001b[39m\u001b[34m(node)\u001b[39m\n\u001b[32m     73\u001b[39m \u001b[38;5;28;01mif\u001b[39;00m lno := \u001b[38;5;28mgetattr\u001b[39m(node, \u001b[33m'\u001b[39m\u001b[33mlineno\u001b[39m\u001b[33m'\u001b[39m, \u001b[38;5;28;01mNone\u001b[39;00m):\n\u001b[32m     74\u001b[39m     msg += \u001b[33mf\u001b[39m\u001b[33m'\u001b[39m\u001b[33m on line \u001b[39m\u001b[38;5;132;01m{\u001b[39;00mlno\u001b[38;5;132;01m}\u001b[39;00m\u001b[33m'\u001b[39m\n\u001b[32m---> \u001b[39m\u001b[32m75\u001b[39m \u001b[38;5;28;01mraise\u001b[39;00m \u001b[38;5;167;01mValueError\u001b[39;00m(msg + \u001b[33mf\u001b[39m\u001b[33m'\u001b[39m\u001b[33m: \u001b[39m\u001b[38;5;132;01m{\u001b[39;00mnode\u001b[38;5;132;01m!r}\u001b[39;00m\u001b[33m'\u001b[39m)\n",
      "\u001b[31mValueError\u001b[39m: malformed node or string on line 1: <ast.Call object at 0x000001FDF302DFD0>"
     ]
    }
   ],
   "source": [
    "df = readCSV_Lists(CSV_PATH)\n",
    "df.copy()"
   ]
  },
  {
   "attachments": {},
   "cell_type": "markdown",
   "metadata": {},
   "source": [
    "### Exclude Martjushev WC (In favor of LCDD)"
   ]
  },
  {
   "cell_type": "code",
   "execution_count": null,
   "metadata": {},
   "outputs": [],
   "source": [
    "df = df[df[\"Algorithm\"] != \"Martjushev ADWIN WC\"]"
   ]
  },
  {
   "cell_type": "markdown",
   "metadata": {},
   "source": [
    "### Rename approaches to shorter names"
   ]
  },
  {
   "cell_type": "code",
   "execution_count": null,
   "metadata": {},
   "outputs": [
    {
     "name": "stdout",
     "output_type": "stream",
     "text": [
      "['LCDD']\n"
     ]
    },
    {
     "data": {
      "text/plain": [
       "array(['LCDD'], dtype=object)"
      ]
     },
     "execution_count": 45,
     "metadata": {},
     "output_type": "execute_result"
    }
   ],
   "source": [
    "print(df[\"Algorithm\"].unique())\n",
    "shorter_names = {\n",
    "    \"Zheng DBSCAN\": \"RINV\",\n",
    "    \"ProDrift\": \"ProDrift\",\n",
    "    \"Bose J\": \"J-Measure\",\n",
    "    \"Bose WC\": \"Window Count\",\n",
    "    \"Earth Mover's Distance\": \"EMD\",\n",
    "    \"Process Graph Metrics\": \"PGM\",\n",
    "    \"Martjushev ADWIN J\": \"ADWIN J\",\n",
    "    \"Martjushev ADWIN WC\": \"ADWIN WC\",\n",
    "    \"LCDD\": \"LCDD\"\n",
    "}\n",
    "df[\"Algorithm\"] = df[\"Algorithm\"].map(shorter_names)\n",
    "df[\"Algorithm\"].unique()"
   ]
  },
  {
   "cell_type": "code",
   "execution_count": null,
   "metadata": {},
   "outputs": [
    {
     "data": {
      "text/plain": [
       "['LCDD']"
      ]
     },
     "execution_count": 46,
     "metadata": {},
     "output_type": "execute_result"
    }
   ],
   "source": [
    "# Order in which to plot the approaches, to stay consistent\n",
    "ALPHA_SORT_NAMES = sorted(list(df[\"Algorithm\"].unique()))\n",
    "ALPHA_SORT_NAMES"
   ]
  },
  {
   "cell_type": "markdown",
   "metadata": {},
   "source": [
    "### Only use Atomic Logs"
   ]
  },
  {
   "cell_type": "code",
   "execution_count": null,
   "metadata": {},
   "outputs": [],
   "source": [
    "atomic_logs = {\n",
    "    log\n",
    "    for index, (source, log) in df[[\"Log Source\", \"Log\"]].iterrows()\n",
    "    if (source.lower() == \"ostovar\" and log.lower().startswith(\"atomic\")) # Only use atomic logs from ostovar\n",
    "    or (log.lower().startswith(\"bose\")) # Use bose log\n",
    "    or (source.lower() == \"ceravolo\" and set(log.lower().split(\"_\")[-1]) != {'i', 'o', 'r'}) # Exclude all composite (IOR, ROI, etc.) logs from ceravolo\n",
    "}\n",
    "\n",
    "df = df[df[\"Log\"].isin(atomic_logs)]"
   ]
  },
  {
   "attachments": {},
   "cell_type": "markdown",
   "metadata": {},
   "source": [
    "### Calculate Log Lengths for Scalability"
   ]
  },
  {
   "cell_type": "code",
   "execution_count": null,
   "metadata": {},
   "outputs": [],
   "source": [
    "_groupkeys = list(df.groupby([\"Log Source\", \"Log\"]).groups.keys())\n",
    "_logpaths = [Path(\"EvaluationLogs\", source, f\"{log}.xes.gz\") for source, log in _groupkeys]\n",
    "\n",
    "loglengths = dict()\n",
    "loglengths_events = dict()\n",
    "\n",
    "for logpath in _logpaths:\n",
    "    log = importLog(logpath.as_posix(), verbose=False)\n",
    "    loglengths[logpath] = len(log)\n",
    "    loglengths_events[logpath] = len([evt for case in log for evt in case])"
   ]
  },
  {
   "cell_type": "code",
   "execution_count": null,
   "metadata": {},
   "outputs": [
    {
     "name": "stdout",
     "output_type": "stream",
     "text": [
      "Number of Logs: 90\n",
      "Number of Cases: 172961\n",
      "Number of Events: 4508965\n"
     ]
    }
   ],
   "source": [
    "print(f\"Number of Logs: {len(loglengths.keys())}\")\n",
    "print(f\"Number of Cases: {sum(loglengths.values())}\")\n",
    "print(f\"Number of Events: {sum(loglengths_events.values())}\")"
   ]
  },
  {
   "attachments": {},
   "cell_type": "markdown",
   "metadata": {},
   "source": [
    "##### Number of Drifts"
   ]
  },
  {
   "cell_type": "code",
   "execution_count": null,
   "metadata": {},
   "outputs": [
    {
     "name": "stdout",
     "output_type": "stream",
     "text": [
      "Total number of drifts: 132\n"
     ]
    }
   ],
   "source": [
    "num_drifts = sum(\n",
    "    len(group.iloc[0][\"Actual Changepoints for Log\"])\n",
    "    for name, group in df.groupby([\"Log Source\", \"Log\"])\n",
    ")\n",
    "print(\"Total number of drifts:\", num_drifts)"
   ]
  },
  {
   "cell_type": "markdown",
   "metadata": {},
   "source": [
    "### Check for Duplicate Rows (Sanity Check)"
   ]
  },
  {
   "cell_type": "code",
   "execution_count": null,
   "metadata": {},
   "outputs": [
    {
     "name": "stdout",
     "output_type": "stream",
     "text": [
      "No duplicate rows in the Dataframe! :)\n"
     ]
    },
    {
     "data": {
      "text/html": [
       "<div>\n",
       "<style scoped>\n",
       "    .dataframe tbody tr th:only-of-type {\n",
       "        vertical-align: middle;\n",
       "    }\n",
       "\n",
       "    .dataframe tbody tr th {\n",
       "        vertical-align: top;\n",
       "    }\n",
       "\n",
       "    .dataframe thead th {\n",
       "        text-align: right;\n",
       "    }\n",
       "</style>\n",
       "<table border=\"1\" class=\"dataframe\">\n",
       "  <thead>\n",
       "    <tr style=\"text-align: right;\">\n",
       "      <th></th>\n",
       "      <th>Algorithm</th>\n",
       "      <th>Log Source</th>\n",
       "      <th>Log</th>\n",
       "      <th>Complete-Window Size</th>\n",
       "      <th>Detection-Window Size</th>\n",
       "      <th>Stable Period</th>\n",
       "      <th>Detected Changepoints</th>\n",
       "      <th>Actual Changepoints for Log</th>\n",
       "      <th>F1-Score</th>\n",
       "      <th>Average Lag</th>\n",
       "      <th>Duration</th>\n",
       "      <th>Duration (Seconds)</th>\n",
       "      <th>Seconds per Case</th>\n",
       "    </tr>\n",
       "  </thead>\n",
       "  <tbody>\n",
       "    <tr>\n",
       "      <th>3</th>\n",
       "      <td>LCDD</td>\n",
       "      <td>Ceravolo</td>\n",
       "      <td>sudden_trace_noise10_1000_rp</td>\n",
       "      <td>800</td>\n",
       "      <td>800</td>\n",
       "      <td>50</td>\n",
       "      <td>[]</td>\n",
       "      <td>[499]</td>\n",
       "      <td>NaN</td>\n",
       "      <td>NaN</td>\n",
       "      <td>0 days</td>\n",
       "      <td>0.018416</td>\n",
       "      <td>0.000018</td>\n",
       "    </tr>\n",
       "    <tr>\n",
       "      <th>5</th>\n",
       "      <td>LCDD</td>\n",
       "      <td>Ceravolo</td>\n",
       "      <td>sudden_trace_noise15_1000_sw</td>\n",
       "      <td>400</td>\n",
       "      <td>400</td>\n",
       "      <td>10</td>\n",
       "      <td>[448]</td>\n",
       "      <td>[499]</td>\n",
       "      <td>1.000000</td>\n",
       "      <td>51.0</td>\n",
       "      <td>0 days</td>\n",
       "      <td>0.010469</td>\n",
       "      <td>0.000010</td>\n",
       "    </tr>\n",
       "    <tr>\n",
       "      <th>6</th>\n",
       "      <td>LCDD</td>\n",
       "      <td>Ostovar</td>\n",
       "      <td>Atomic_ParallelRemoval_output_ParallelRemoval_5</td>\n",
       "      <td>800</td>\n",
       "      <td>800</td>\n",
       "      <td>50</td>\n",
       "      <td>[802, 1602, 2402]</td>\n",
       "      <td>[999, 1999]</td>\n",
       "      <td>0.400000</td>\n",
       "      <td>197.0</td>\n",
       "      <td>0 days</td>\n",
       "      <td>0.105333</td>\n",
       "      <td>0.000035</td>\n",
       "    </tr>\n",
       "    <tr>\n",
       "      <th>8</th>\n",
       "      <td>LCDD</td>\n",
       "      <td>Bose</td>\n",
       "      <td>bose_log</td>\n",
       "      <td>800</td>\n",
       "      <td>800</td>\n",
       "      <td>200</td>\n",
       "      <td>[1225, 2231, 3065, 3947, 4800, 5634]</td>\n",
       "      <td>[1199, 2399, 3599, 4799]</td>\n",
       "      <td>0.600000</td>\n",
       "      <td>65.0</td>\n",
       "      <td>0 days</td>\n",
       "      <td>0.091701</td>\n",
       "      <td>0.000015</td>\n",
       "    </tr>\n",
       "    <tr>\n",
       "      <th>9</th>\n",
       "      <td>LCDD</td>\n",
       "      <td>Ceravolo</td>\n",
       "      <td>sudden_trace_noise15_1000_cf</td>\n",
       "      <td>800</td>\n",
       "      <td>800</td>\n",
       "      <td>100</td>\n",
       "      <td>[]</td>\n",
       "      <td>[499]</td>\n",
       "      <td>NaN</td>\n",
       "      <td>NaN</td>\n",
       "      <td>0 days</td>\n",
       "      <td>0.017223</td>\n",
       "      <td>0.000017</td>\n",
       "    </tr>\n",
       "    <tr>\n",
       "      <th>...</th>\n",
       "      <td>...</td>\n",
       "      <td>...</td>\n",
       "      <td>...</td>\n",
       "      <td>...</td>\n",
       "      <td>...</td>\n",
       "      <td>...</td>\n",
       "      <td>...</td>\n",
       "      <td>...</td>\n",
       "      <td>...</td>\n",
       "      <td>...</td>\n",
       "      <td>...</td>\n",
       "      <td>...</td>\n",
       "      <td>...</td>\n",
       "    </tr>\n",
       "    <tr>\n",
       "      <th>7387</th>\n",
       "      <td>LCDD</td>\n",
       "      <td>Ostovar</td>\n",
       "      <td>Atomic_Substitute_output_Substitute</td>\n",
       "      <td>200</td>\n",
       "      <td>200</td>\n",
       "      <td>200</td>\n",
       "      <td>[909, 1109, 1918, 2118]</td>\n",
       "      <td>[999, 1999]</td>\n",
       "      <td>0.666667</td>\n",
       "      <td>85.5</td>\n",
       "      <td>0 days</td>\n",
       "      <td>0.328984</td>\n",
       "      <td>0.000110</td>\n",
       "    </tr>\n",
       "    <tr>\n",
       "      <th>7390</th>\n",
       "      <td>LCDD</td>\n",
       "      <td>Ostovar</td>\n",
       "      <td>Atomic_ConditionalToSequence_output_Conditiona...</td>\n",
       "      <td>400</td>\n",
       "      <td>400</td>\n",
       "      <td>100</td>\n",
       "      <td>[409, 809, 1209, 1618, 2019, 2420, 2822]</td>\n",
       "      <td>[999, 1999]</td>\n",
       "      <td>0.444444</td>\n",
       "      <td>105.0</td>\n",
       "      <td>0 days</td>\n",
       "      <td>0.090361</td>\n",
       "      <td>0.000030</td>\n",
       "    </tr>\n",
       "    <tr>\n",
       "      <th>7391</th>\n",
       "      <td>LCDD</td>\n",
       "      <td>Ceravolo</td>\n",
       "      <td>sudden_trace_noise10_1000_re</td>\n",
       "      <td>100</td>\n",
       "      <td>100</td>\n",
       "      <td>5</td>\n",
       "      <td>[447]</td>\n",
       "      <td>[499]</td>\n",
       "      <td>1.000000</td>\n",
       "      <td>52.0</td>\n",
       "      <td>0 days</td>\n",
       "      <td>0.016459</td>\n",
       "      <td>0.000016</td>\n",
       "    </tr>\n",
       "    <tr>\n",
       "      <th>7394</th>\n",
       "      <td>LCDD</td>\n",
       "      <td>Ostovar</td>\n",
       "      <td>Atomic_ConditionalRemoval_output_ConditionalRe...</td>\n",
       "      <td>800</td>\n",
       "      <td>800</td>\n",
       "      <td>200</td>\n",
       "      <td>[901]</td>\n",
       "      <td>[999, 1999]</td>\n",
       "      <td>0.666667</td>\n",
       "      <td>98.0</td>\n",
       "      <td>0 days</td>\n",
       "      <td>0.094372</td>\n",
       "      <td>0.000031</td>\n",
       "    </tr>\n",
       "    <tr>\n",
       "      <th>7398</th>\n",
       "      <td>LCDD</td>\n",
       "      <td>Ostovar</td>\n",
       "      <td>Atomic_ConditionalRemoval_output_ConditionalRe...</td>\n",
       "      <td>1200</td>\n",
       "      <td>1200</td>\n",
       "      <td>10</td>\n",
       "      <td>[]</td>\n",
       "      <td>[999, 1999]</td>\n",
       "      <td>NaN</td>\n",
       "      <td>NaN</td>\n",
       "      <td>0 days</td>\n",
       "      <td>0.074331</td>\n",
       "      <td>0.000025</td>\n",
       "    </tr>\n",
       "  </tbody>\n",
       "</table>\n",
       "<p>4410 rows × 13 columns</p>\n",
       "</div>"
      ],
      "text/plain": [
       "     Algorithm Log Source                                                Log  \\\n",
       "3         LCDD   Ceravolo                       sudden_trace_noise10_1000_rp   \n",
       "5         LCDD   Ceravolo                       sudden_trace_noise15_1000_sw   \n",
       "6         LCDD    Ostovar    Atomic_ParallelRemoval_output_ParallelRemoval_5   \n",
       "8         LCDD       Bose                                           bose_log   \n",
       "9         LCDD   Ceravolo                       sudden_trace_noise15_1000_cf   \n",
       "...        ...        ...                                                ...   \n",
       "7387      LCDD    Ostovar                Atomic_Substitute_output_Substitute   \n",
       "7390      LCDD    Ostovar  Atomic_ConditionalToSequence_output_Conditiona...   \n",
       "7391      LCDD   Ceravolo                       sudden_trace_noise10_1000_re   \n",
       "7394      LCDD    Ostovar  Atomic_ConditionalRemoval_output_ConditionalRe...   \n",
       "7398      LCDD    Ostovar  Atomic_ConditionalRemoval_output_ConditionalRe...   \n",
       "\n",
       "      Complete-Window Size  Detection-Window Size  Stable Period  \\\n",
       "3                      800                    800             50   \n",
       "5                      400                    400             10   \n",
       "6                      800                    800             50   \n",
       "8                      800                    800            200   \n",
       "9                      800                    800            100   \n",
       "...                    ...                    ...            ...   \n",
       "7387                   200                    200            200   \n",
       "7390                   400                    400            100   \n",
       "7391                   100                    100              5   \n",
       "7394                   800                    800            200   \n",
       "7398                  1200                   1200             10   \n",
       "\n",
       "                         Detected Changepoints Actual Changepoints for Log  \\\n",
       "3                                           []                       [499]   \n",
       "5                                        [448]                       [499]   \n",
       "6                            [802, 1602, 2402]                 [999, 1999]   \n",
       "8         [1225, 2231, 3065, 3947, 4800, 5634]    [1199, 2399, 3599, 4799]   \n",
       "9                                           []                       [499]   \n",
       "...                                        ...                         ...   \n",
       "7387                   [909, 1109, 1918, 2118]                 [999, 1999]   \n",
       "7390  [409, 809, 1209, 1618, 2019, 2420, 2822]                 [999, 1999]   \n",
       "7391                                     [447]                       [499]   \n",
       "7394                                     [901]                 [999, 1999]   \n",
       "7398                                        []                 [999, 1999]   \n",
       "\n",
       "      F1-Score  Average Lag Duration  Duration (Seconds)  Seconds per Case  \n",
       "3          NaN          NaN   0 days            0.018416          0.000018  \n",
       "5     1.000000         51.0   0 days            0.010469          0.000010  \n",
       "6     0.400000        197.0   0 days            0.105333          0.000035  \n",
       "8     0.600000         65.0   0 days            0.091701          0.000015  \n",
       "9          NaN          NaN   0 days            0.017223          0.000017  \n",
       "...        ...          ...      ...                 ...               ...  \n",
       "7387  0.666667         85.5   0 days            0.328984          0.000110  \n",
       "7390  0.444444        105.0   0 days            0.090361          0.000030  \n",
       "7391  1.000000         52.0   0 days            0.016459          0.000016  \n",
       "7394  0.666667         98.0   0 days            0.094372          0.000031  \n",
       "7398       NaN          NaN   0 days            0.074331          0.000025  \n",
       "\n",
       "[4410 rows x 13 columns]"
      ]
     },
     "execution_count": 51,
     "metadata": {},
     "output_type": "execute_result"
    }
   ],
   "source": [
    "def split_by_name(df):\n",
    "    return [\n",
    "        (alg, df[df[\"Algorithm\"] == alg].copy())\n",
    "        for alg in df[\"Algorithm\"].unique()\n",
    "    ]\n",
    "\n",
    "dfs = split_by_name(df)\n",
    "\n",
    "if not pd.read_csv(CSV_PATH).duplicated().any():\n",
    "    print(\"No duplicate rows in the Dataframe! :)\")\n",
    "else:\n",
    "    for name, d in split_by_name(pd.read_csv(CSV_PATH)):\n",
    "        print(f\"{name} contains duplicate rows: {d.duplicated().any()}\")\n",
    "\n",
    "df"
   ]
  },
  {
   "attachments": {},
   "cell_type": "markdown",
   "metadata": {},
   "source": [
    "### Add Auxiliary Columns for Noise and Change Pattern\n",
    "- One column stating the change pattern used in this event log\n",
    "- One column stating the noise level"
   ]
  },
  {
   "cell_type": "code",
   "execution_count": null,
   "metadata": {},
   "outputs": [],
   "source": [
    "mapping_ostovar_to_shortnames = {\n",
    "    \"ConditionalMove\": 'cm',\n",
    "    \"ConditionalRemoval\": 'cre',\n",
    "    \"ConditionalToSequence\": 'cf',\n",
    "    \"Frequency\": 'fr',\n",
    "    \"Loop\": 'lp',\n",
    "    \"ParallelMove\": 'pm',\n",
    "    \"ParallelRemoval\": 'pre',\n",
    "    \"ParallelToSequence\": 'pl',\n",
    "    \"SerialMove\": 'sm',\n",
    "    \"SerialRemoval\": 'sre',\n",
    "    \"Skip\": 'cb',\n",
    "    \"Substitute\": 'rp',\n",
    "    \"Swap\": 'sw',\n",
    "}\n",
    "\n",
    "def map_row_to_cp(row):\n",
    "    logname = row[\"Log\"]\n",
    "    if row[\"Log Source\"] == \"Ceravolo\":\n",
    "        return logname.split(\"_\")[-1]\n",
    "    elif row[\"Log Source\"] == \"Ostovar\":\n",
    "        change_pattern = logname.split(\"_\")[-1]\n",
    "        if change_pattern.isnumeric(): # This log has a noise level; Use the second to last string instead\n",
    "            change_pattern = logname.split(\"_\")[-2]\n",
    "        return mapping_ostovar_to_shortnames[change_pattern]\n",
    "    elif row[\"Log Source\"] == \"Bose\":\n",
    "        return None\n",
    "    else:\n",
    "        raise ValueError(f\"Unknown Log Source for Versatility: {row['Log Source']}; Is this Log meant to be used for a Versatility Evaluation?\")\n",
    "\n",
    "# Add a column stating the change pattern that is applied\n",
    "df[\"Change Pattern\"] = df.apply(lambda x: map_row_to_cp(x), axis=1)"
   ]
  },
  {
   "cell_type": "code",
   "execution_count": null,
   "metadata": {},
   "outputs": [
    {
     "data": {
      "text/html": [
       "<div>\n",
       "<style scoped>\n",
       "    .dataframe tbody tr th:only-of-type {\n",
       "        vertical-align: middle;\n",
       "    }\n",
       "\n",
       "    .dataframe tbody tr th {\n",
       "        vertical-align: top;\n",
       "    }\n",
       "\n",
       "    .dataframe thead th {\n",
       "        text-align: right;\n",
       "    }\n",
       "</style>\n",
       "<table border=\"1\" class=\"dataframe\">\n",
       "  <thead>\n",
       "    <tr style=\"text-align: right;\">\n",
       "      <th></th>\n",
       "      <th>Algorithm</th>\n",
       "      <th>Log Source</th>\n",
       "      <th>Log</th>\n",
       "      <th>Change Pattern</th>\n",
       "      <th>Noise Level</th>\n",
       "    </tr>\n",
       "  </thead>\n",
       "  <tbody>\n",
       "    <tr>\n",
       "      <th>3</th>\n",
       "      <td>LCDD</td>\n",
       "      <td>Ceravolo</td>\n",
       "      <td>sudden_trace_noise10_1000_rp</td>\n",
       "      <td>rp</td>\n",
       "      <td>10</td>\n",
       "    </tr>\n",
       "    <tr>\n",
       "      <th>5</th>\n",
       "      <td>LCDD</td>\n",
       "      <td>Ceravolo</td>\n",
       "      <td>sudden_trace_noise15_1000_sw</td>\n",
       "      <td>sw</td>\n",
       "      <td>15</td>\n",
       "    </tr>\n",
       "    <tr>\n",
       "      <th>6</th>\n",
       "      <td>LCDD</td>\n",
       "      <td>Ostovar</td>\n",
       "      <td>Atomic_ParallelRemoval_output_ParallelRemoval_5</td>\n",
       "      <td>pre</td>\n",
       "      <td>5</td>\n",
       "    </tr>\n",
       "    <tr>\n",
       "      <th>8</th>\n",
       "      <td>LCDD</td>\n",
       "      <td>Bose</td>\n",
       "      <td>bose_log</td>\n",
       "      <td>None</td>\n",
       "      <td>None</td>\n",
       "    </tr>\n",
       "    <tr>\n",
       "      <th>9</th>\n",
       "      <td>LCDD</td>\n",
       "      <td>Ceravolo</td>\n",
       "      <td>sudden_trace_noise15_1000_cf</td>\n",
       "      <td>cf</td>\n",
       "      <td>15</td>\n",
       "    </tr>\n",
       "    <tr>\n",
       "      <th>...</th>\n",
       "      <td>...</td>\n",
       "      <td>...</td>\n",
       "      <td>...</td>\n",
       "      <td>...</td>\n",
       "      <td>...</td>\n",
       "    </tr>\n",
       "    <tr>\n",
       "      <th>7387</th>\n",
       "      <td>LCDD</td>\n",
       "      <td>Ostovar</td>\n",
       "      <td>Atomic_Substitute_output_Substitute</td>\n",
       "      <td>rp</td>\n",
       "      <td>0</td>\n",
       "    </tr>\n",
       "    <tr>\n",
       "      <th>7390</th>\n",
       "      <td>LCDD</td>\n",
       "      <td>Ostovar</td>\n",
       "      <td>Atomic_ConditionalToSequence_output_Conditiona...</td>\n",
       "      <td>cf</td>\n",
       "      <td>2</td>\n",
       "    </tr>\n",
       "    <tr>\n",
       "      <th>7391</th>\n",
       "      <td>LCDD</td>\n",
       "      <td>Ceravolo</td>\n",
       "      <td>sudden_trace_noise10_1000_re</td>\n",
       "      <td>re</td>\n",
       "      <td>10</td>\n",
       "    </tr>\n",
       "    <tr>\n",
       "      <th>7394</th>\n",
       "      <td>LCDD</td>\n",
       "      <td>Ostovar</td>\n",
       "      <td>Atomic_ConditionalRemoval_output_ConditionalRe...</td>\n",
       "      <td>cre</td>\n",
       "      <td>0</td>\n",
       "    </tr>\n",
       "    <tr>\n",
       "      <th>7398</th>\n",
       "      <td>LCDD</td>\n",
       "      <td>Ostovar</td>\n",
       "      <td>Atomic_ConditionalRemoval_output_ConditionalRe...</td>\n",
       "      <td>cre</td>\n",
       "      <td>0</td>\n",
       "    </tr>\n",
       "  </tbody>\n",
       "</table>\n",
       "<p>4410 rows × 5 columns</p>\n",
       "</div>"
      ],
      "text/plain": [
       "     Algorithm Log Source                                                Log  \\\n",
       "3         LCDD   Ceravolo                       sudden_trace_noise10_1000_rp   \n",
       "5         LCDD   Ceravolo                       sudden_trace_noise15_1000_sw   \n",
       "6         LCDD    Ostovar    Atomic_ParallelRemoval_output_ParallelRemoval_5   \n",
       "8         LCDD       Bose                                           bose_log   \n",
       "9         LCDD   Ceravolo                       sudden_trace_noise15_1000_cf   \n",
       "...        ...        ...                                                ...   \n",
       "7387      LCDD    Ostovar                Atomic_Substitute_output_Substitute   \n",
       "7390      LCDD    Ostovar  Atomic_ConditionalToSequence_output_Conditiona...   \n",
       "7391      LCDD   Ceravolo                       sudden_trace_noise10_1000_re   \n",
       "7394      LCDD    Ostovar  Atomic_ConditionalRemoval_output_ConditionalRe...   \n",
       "7398      LCDD    Ostovar  Atomic_ConditionalRemoval_output_ConditionalRe...   \n",
       "\n",
       "     Change Pattern Noise Level  \n",
       "3                rp          10  \n",
       "5                sw          15  \n",
       "6               pre           5  \n",
       "8              None        None  \n",
       "9                cf          15  \n",
       "...             ...         ...  \n",
       "7387             rp           0  \n",
       "7390             cf           2  \n",
       "7391             re          10  \n",
       "7394            cre           0  \n",
       "7398            cre           0  \n",
       "\n",
       "[4410 rows x 5 columns]"
      ]
     },
     "execution_count": 53,
     "metadata": {},
     "output_type": "execute_result"
    }
   ],
   "source": [
    "# Preprocessing; Add \"Noise Level\" Column\n",
    "def map_row_to_noise(row):\n",
    "    logname = row[\"Log\"]\n",
    "    if row[\"Log Source\"] == \"Ceravolo\":\n",
    "        return re.search('noise([0-9]*)_', logname).group(1)\n",
    "    elif row[\"Log Source\"] == \"Ostovar\":\n",
    "        # return mapping_ostovar_to_shortnames[logname.split(\"_\")[-1]]\n",
    "        last_member = logname.split('_')[-1]\n",
    "        if last_member.isnumeric():\n",
    "            return last_member\n",
    "        else:\n",
    "            return '0'\n",
    "    elif row[\"Log Source\"] == \"Bose\":\n",
    "        return None\n",
    "    else:\n",
    "        raise ValueError(f\"Unknown Log Source for Noise Level: {row['Log Source']}; Is this Log meant to be used for a Robustness Evaluation?\")\n",
    "\n",
    "# Only use the Ceravolo and Ostovar Logs as Bose has only 1 log, i.e., no noise levels\n",
    "# Add a column stating the change pattern that is applied and one for the noise level\n",
    "df[\"Noise Level\"] = df.apply(lambda x: map_row_to_noise(x), axis=1)\n",
    "df[['Algorithm', 'Log Source', 'Log', 'Change Pattern', 'Noise Level']]"
   ]
  },
  {
   "cell_type": "markdown",
   "metadata": {},
   "source": [
    "### Split into Noisy/Noiseful Logs"
   ]
  },
  {
   "cell_type": "code",
   "execution_count": null,
   "metadata": {},
   "outputs": [],
   "source": [
    "logs = zip(df[\"Log Source\"], df[\"Log\"])\n",
    "\n",
    "noiseless_logs = {\n",
    "    log for source, log in logs if \n",
    "    (source == \"Ostovar\"  and not (log.endswith(\"_2\") or log.endswith(\"_5\"))) or\n",
    "    (source == \"Ceravolo\" and log.split(\"_\")[2]==\"noise0\") or\n",
    "    source == \"Bose\"\n",
    "}\n",
    "\n",
    "df_noiseless = df[df[\"Log\"].isin(noiseless_logs)]\n",
    "df_noisy = df[df[\"Log\"].isin(noiseless_logs) == False]\n",
    "\n",
    "dfs_noisy = split_by_name(df_noisy)\n",
    "dfs_noiseless = split_by_name(df_noiseless)"
   ]
  },
  {
   "cell_type": "markdown",
   "metadata": {},
   "source": [
    "### Define Color Schema"
   ]
  },
  {
   "cell_type": "code",
   "execution_count": null,
   "metadata": {},
   "outputs": [],
   "source": [
    "colors = [\"#DB444B\",\"#9A607F\",\"#006BA2\",\"#3EBCD2\",\"#379A8B\",\"#EBB434\",\"#B4BA39\",\"#D1B07C\"]\n",
    "color_map = {ALPHA_SORT_NAMES[i]:colors[i] for i in range(0,len(ALPHA_SORT_NAMES))}"
   ]
  },
  {
   "attachments": {},
   "cell_type": "markdown",
   "metadata": {},
   "source": [
    "## Analyze Change Pattern Distribution"
   ]
  },
  {
   "cell_type": "code",
   "execution_count": null,
   "metadata": {},
   "outputs": [
    {
     "name": "stdout",
     "output_type": "stream",
     "text": [
      "['rp' 'sw' 'pre' None 'cf' 'pl' 'cre' 'pm' 'cb' 'lp' 'cd' 'sre' 'cp' 'cm'\n",
      " 're' 'sm' 'fr']\n"
     ]
    },
    {
     "data": {
      "text/html": [
       "<div>\n",
       "<style scoped>\n",
       "    .dataframe tbody tr th:only-of-type {\n",
       "        vertical-align: middle;\n",
       "    }\n",
       "\n",
       "    .dataframe tbody tr th {\n",
       "        vertical-align: top;\n",
       "    }\n",
       "\n",
       "    .dataframe thead th {\n",
       "        text-align: right;\n",
       "    }\n",
       "</style>\n",
       "<table border=\"1\" class=\"dataframe\">\n",
       "  <thead>\n",
       "    <tr style=\"text-align: right;\">\n",
       "      <th></th>\n",
       "      <th>rp</th>\n",
       "      <th>sw</th>\n",
       "      <th>pre</th>\n",
       "      <th>cf</th>\n",
       "      <th>pl</th>\n",
       "      <th>cre</th>\n",
       "      <th>pm</th>\n",
       "      <th>cb</th>\n",
       "      <th>lp</th>\n",
       "      <th>cd</th>\n",
       "      <th>sre</th>\n",
       "      <th>cp</th>\n",
       "      <th>cm</th>\n",
       "      <th>re</th>\n",
       "      <th>sm</th>\n",
       "      <th>fr</th>\n",
       "      <th>Mixed (Bose)</th>\n",
       "    </tr>\n",
       "  </thead>\n",
       "  <tbody>\n",
       "    <tr>\n",
       "      <th>Ceravolo</th>\n",
       "      <td>5</td>\n",
       "      <td>5</td>\n",
       "      <td>0</td>\n",
       "      <td>5</td>\n",
       "      <td>5</td>\n",
       "      <td>0</td>\n",
       "      <td>5</td>\n",
       "      <td>5</td>\n",
       "      <td>5</td>\n",
       "      <td>5</td>\n",
       "      <td>0</td>\n",
       "      <td>5</td>\n",
       "      <td>0</td>\n",
       "      <td>5</td>\n",
       "      <td>0</td>\n",
       "      <td>0</td>\n",
       "      <td>0</td>\n",
       "    </tr>\n",
       "    <tr>\n",
       "      <th>Ostovar</th>\n",
       "      <td>3</td>\n",
       "      <td>3</td>\n",
       "      <td>3</td>\n",
       "      <td>3</td>\n",
       "      <td>3</td>\n",
       "      <td>3</td>\n",
       "      <td>3</td>\n",
       "      <td>3</td>\n",
       "      <td>3</td>\n",
       "      <td>0</td>\n",
       "      <td>3</td>\n",
       "      <td>0</td>\n",
       "      <td>3</td>\n",
       "      <td>0</td>\n",
       "      <td>3</td>\n",
       "      <td>3</td>\n",
       "      <td>0</td>\n",
       "    </tr>\n",
       "    <tr>\n",
       "      <th>Bose</th>\n",
       "      <td>0</td>\n",
       "      <td>0</td>\n",
       "      <td>0</td>\n",
       "      <td>0</td>\n",
       "      <td>0</td>\n",
       "      <td>0</td>\n",
       "      <td>0</td>\n",
       "      <td>0</td>\n",
       "      <td>0</td>\n",
       "      <td>0</td>\n",
       "      <td>0</td>\n",
       "      <td>0</td>\n",
       "      <td>0</td>\n",
       "      <td>0</td>\n",
       "      <td>0</td>\n",
       "      <td>0</td>\n",
       "      <td>1</td>\n",
       "    </tr>\n",
       "  </tbody>\n",
       "</table>\n",
       "</div>"
      ],
      "text/plain": [
       "          rp  sw  pre  cf  pl  cre  pm  cb  lp  cd  sre  cp  cm  re  sm  fr  \\\n",
       "Ceravolo   5   5    0   5   5    0   5   5   5   5    0   5   0   5   0   0   \n",
       "Ostovar    3   3    3   3   3    3   3   3   3   0    3   0   3   0   3   3   \n",
       "Bose       0   0    0   0   0    0   0   0   0   0    0   0   0   0   0   0   \n",
       "\n",
       "          Mixed (Bose)  \n",
       "Ceravolo             0  \n",
       "Ostovar              0  \n",
       "Bose                 1  "
      ]
     },
     "execution_count": 56,
     "metadata": {},
     "output_type": "execute_result"
    }
   ],
   "source": [
    "print(df[\"Change Pattern\"].unique()) # None means Bose\n",
    "\n",
    "cp_count_results = { cp: dict() for cp in df[\"Change Pattern\"].unique() if cp is not None } # Bose gets lost because it maps to none\n",
    "\n",
    "for name, group in df[[\"Log Source\", \"Log\", \"Change Pattern\"]].drop_duplicates(inplace=False).groupby(\"Log Source\"): # Only consider each logpath once (not once for each algorithm application)\n",
    "    series = group[\"Change Pattern\"].value_counts().to_dict()\n",
    "    for cp, count in series.items():\n",
    "        cp_count_results[cp][name] = count\n",
    "\n",
    "for key in cp_count_results.keys():\n",
    "    cp_count_results[key][\"Bose\"] = 0\n",
    "cp_count_results[\"Mixed (Bose)\"] = {\"Ostovar\": 0, \"Ceravolo\": 0, \"Bose\": 1}\n",
    "\n",
    "    \n",
    "cp_counts = pd.DataFrame(cp_count_results).fillna(0).astype(int)\n",
    "cp_counts\n"
   ]
  },
  {
   "attachments": {},
   "cell_type": "markdown",
   "metadata": {},
   "source": [
    "#### Compute Relative Counts"
   ]
  },
  {
   "cell_type": "code",
   "execution_count": null,
   "metadata": {},
   "outputs": [
    {
     "data": {
      "text/html": [
       "<div>\n",
       "<style scoped>\n",
       "    .dataframe tbody tr th:only-of-type {\n",
       "        vertical-align: middle;\n",
       "    }\n",
       "\n",
       "    .dataframe tbody tr th {\n",
       "        vertical-align: top;\n",
       "    }\n",
       "\n",
       "    .dataframe thead th {\n",
       "        text-align: right;\n",
       "    }\n",
       "</style>\n",
       "<table border=\"1\" class=\"dataframe\">\n",
       "  <thead>\n",
       "    <tr style=\"text-align: right;\">\n",
       "      <th></th>\n",
       "      <th>Ceravolo</th>\n",
       "      <th>Ostovar</th>\n",
       "      <th>Bose</th>\n",
       "      <th>Relative Frequency</th>\n",
       "    </tr>\n",
       "  </thead>\n",
       "  <tbody>\n",
       "    <tr>\n",
       "      <th>rp</th>\n",
       "      <td>5</td>\n",
       "      <td>3</td>\n",
       "      <td>0</td>\n",
       "      <td>8.888889</td>\n",
       "    </tr>\n",
       "    <tr>\n",
       "      <th>sw</th>\n",
       "      <td>5</td>\n",
       "      <td>3</td>\n",
       "      <td>0</td>\n",
       "      <td>8.888889</td>\n",
       "    </tr>\n",
       "    <tr>\n",
       "      <th>pre</th>\n",
       "      <td>0</td>\n",
       "      <td>3</td>\n",
       "      <td>0</td>\n",
       "      <td>3.333333</td>\n",
       "    </tr>\n",
       "    <tr>\n",
       "      <th>cf</th>\n",
       "      <td>5</td>\n",
       "      <td>3</td>\n",
       "      <td>0</td>\n",
       "      <td>8.888889</td>\n",
       "    </tr>\n",
       "    <tr>\n",
       "      <th>pl</th>\n",
       "      <td>5</td>\n",
       "      <td>3</td>\n",
       "      <td>0</td>\n",
       "      <td>8.888889</td>\n",
       "    </tr>\n",
       "    <tr>\n",
       "      <th>cre</th>\n",
       "      <td>0</td>\n",
       "      <td>3</td>\n",
       "      <td>0</td>\n",
       "      <td>3.333333</td>\n",
       "    </tr>\n",
       "    <tr>\n",
       "      <th>pm</th>\n",
       "      <td>5</td>\n",
       "      <td>3</td>\n",
       "      <td>0</td>\n",
       "      <td>8.888889</td>\n",
       "    </tr>\n",
       "    <tr>\n",
       "      <th>cb</th>\n",
       "      <td>5</td>\n",
       "      <td>3</td>\n",
       "      <td>0</td>\n",
       "      <td>8.888889</td>\n",
       "    </tr>\n",
       "    <tr>\n",
       "      <th>lp</th>\n",
       "      <td>5</td>\n",
       "      <td>3</td>\n",
       "      <td>0</td>\n",
       "      <td>8.888889</td>\n",
       "    </tr>\n",
       "    <tr>\n",
       "      <th>cd</th>\n",
       "      <td>5</td>\n",
       "      <td>0</td>\n",
       "      <td>0</td>\n",
       "      <td>5.555556</td>\n",
       "    </tr>\n",
       "    <tr>\n",
       "      <th>sre</th>\n",
       "      <td>0</td>\n",
       "      <td>3</td>\n",
       "      <td>0</td>\n",
       "      <td>3.333333</td>\n",
       "    </tr>\n",
       "    <tr>\n",
       "      <th>cp</th>\n",
       "      <td>5</td>\n",
       "      <td>0</td>\n",
       "      <td>0</td>\n",
       "      <td>5.555556</td>\n",
       "    </tr>\n",
       "    <tr>\n",
       "      <th>cm</th>\n",
       "      <td>0</td>\n",
       "      <td>3</td>\n",
       "      <td>0</td>\n",
       "      <td>3.333333</td>\n",
       "    </tr>\n",
       "    <tr>\n",
       "      <th>re</th>\n",
       "      <td>5</td>\n",
       "      <td>0</td>\n",
       "      <td>0</td>\n",
       "      <td>5.555556</td>\n",
       "    </tr>\n",
       "    <tr>\n",
       "      <th>sm</th>\n",
       "      <td>0</td>\n",
       "      <td>3</td>\n",
       "      <td>0</td>\n",
       "      <td>3.333333</td>\n",
       "    </tr>\n",
       "    <tr>\n",
       "      <th>fr</th>\n",
       "      <td>0</td>\n",
       "      <td>3</td>\n",
       "      <td>0</td>\n",
       "      <td>3.333333</td>\n",
       "    </tr>\n",
       "    <tr>\n",
       "      <th>Mixed (Bose)</th>\n",
       "      <td>0</td>\n",
       "      <td>0</td>\n",
       "      <td>1</td>\n",
       "      <td>1.111111</td>\n",
       "    </tr>\n",
       "  </tbody>\n",
       "</table>\n",
       "</div>"
      ],
      "text/plain": [
       "              Ceravolo  Ostovar  Bose  Relative Frequency\n",
       "rp                   5        3     0            8.888889\n",
       "sw                   5        3     0            8.888889\n",
       "pre                  0        3     0            3.333333\n",
       "cf                   5        3     0            8.888889\n",
       "pl                   5        3     0            8.888889\n",
       "cre                  0        3     0            3.333333\n",
       "pm                   5        3     0            8.888889\n",
       "cb                   5        3     0            8.888889\n",
       "lp                   5        3     0            8.888889\n",
       "cd                   5        0     0            5.555556\n",
       "sre                  0        3     0            3.333333\n",
       "cp                   5        0     0            5.555556\n",
       "cm                   0        3     0            3.333333\n",
       "re                   5        0     0            5.555556\n",
       "sm                   0        3     0            3.333333\n",
       "fr                   0        3     0            3.333333\n",
       "Mixed (Bose)         0        0     1            1.111111"
      ]
     },
     "execution_count": 57,
     "metadata": {},
     "output_type": "execute_result"
    }
   ],
   "source": [
    "cp_counts_tr = cp_counts.transpose()\n",
    "total_logs = cp_counts.to_numpy().sum()\n",
    "cp_counts_tr[\"Relative Frequency\"] = cp_counts_tr.apply(lambda row: row.sum() / total_logs * 100, axis=1)\n",
    "cp_counts_tr"
   ]
  },
  {
   "cell_type": "markdown",
   "metadata": {},
   "source": [
    "## Accuracy\n",
    "- All Change-Patterns\n",
    "- Only 0 Noise\n",
    "- Max cummulative *Recall* achieved of all parameter settings\n",
    "  - Accumulate TP and FP over all event logs before calculating recall"
   ]
  },
  {
   "cell_type": "code",
   "execution_count": null,
   "metadata": {},
   "outputs": [
    {
     "data": {
      "text/plain": [
       "array(['LCDD'], dtype=object)"
      ]
     },
     "execution_count": 58,
     "metadata": {},
     "output_type": "execute_result"
    }
   ],
   "source": [
    "df[\"Algorithm\"].unique()"
   ]
  },
  {
   "cell_type": "code",
   "execution_count": null,
   "metadata": {},
   "outputs": [
    {
     "data": {
      "text/html": [
       "<div>\n",
       "<style scoped>\n",
       "    .dataframe tbody tr th:only-of-type {\n",
       "        vertical-align: middle;\n",
       "    }\n",
       "\n",
       "    .dataframe tbody tr th {\n",
       "        vertical-align: top;\n",
       "    }\n",
       "\n",
       "    .dataframe thead th {\n",
       "        text-align: right;\n",
       "    }\n",
       "</style>\n",
       "<table border=\"1\" class=\"dataframe\">\n",
       "  <thead>\n",
       "    <tr style=\"text-align: right;\">\n",
       "      <th></th>\n",
       "      <th>Algorithm</th>\n",
       "      <th>Accuracy</th>\n",
       "    </tr>\n",
       "  </thead>\n",
       "  <tbody>\n",
       "    <tr>\n",
       "      <th>0</th>\n",
       "      <td>LCDD</td>\n",
       "      <td>0.674157</td>\n",
       "    </tr>\n",
       "  </tbody>\n",
       "</table>\n",
       "</div>"
      ],
      "text/plain": [
       "  Algorithm  Accuracy\n",
       "0      LCDD  0.674157"
      ]
     },
     "execution_count": 59,
     "metadata": {},
     "output_type": "execute_result"
    }
   ],
   "source": [
    "used_parameters = {\n",
    "        \"Bose J\": [\"Window Size\", \"SW Step Size\"],\n",
    "        \"Bose WC\": [\"Window Size\", \"SW Step Size\"],\n",
    "        \"Martjushev ADWIN J\": [\"Min Adaptive Window\", \"Max Adaptive Window\", \"P-Value\", \"ADWIN Step Size\"],\n",
    "        \"Martjushev ADWIN WC\": [\"Min Adaptive Window\", \"Max Adaptive Window\", \"P-Value\", \"ADWIN Step Size\"],\n",
    "        \"ProDrift\": [\"Window Size\", \"SW Step Size\"],\n",
    "        \"Earth Mover's Distance\": [\"Window Size\", \"SW Step Size\"],\n",
    "        \"Process Graph Metrics\": [\"Min Adaptive Window\", \"Max Adaptive Window\", \"P-Value\"],\n",
    "        \"Zheng DBSCAN\": [\"MRID\", \"Epsilon\"],\n",
    "        \"LCDD\": [\"Complete-Window Size\", \"Detection-Window Size\", \"Stable Period\"]\n",
    "    }\n",
    "\n",
    "used_parameters = {\n",
    "    shorter_names[name]: used_parameters[name]\n",
    "    for name in used_parameters.keys()\n",
    "}\n",
    "\n",
    "\n",
    "\n",
    "def calcAccuracy(df:pd.DataFrame, param_names:List[str], lag_window: int):\n",
    "    \"\"\"Calculates the Accuracy Metric for the given dataframe by grouping by the given parameters and calculating the mean accuracy\n",
    "\n",
    "    Args:\n",
    "        df (pd.DataFrame): The dataframe containing the results to be evaluated\n",
    "        param_names (List[str]): The names of the parameters of this approach\n",
    "        lag_window (int): The lag window to be used for the evaluation to determine true positives and false positives\n",
    "\n",
    "    Returns:\n",
    "        _type_: _description_\n",
    "    \"\"\"\n",
    "\n",
    "    f1s = dict()\n",
    "    recalls = dict()\n",
    "    precisions = dict()\n",
    "    # Group by parameter values to calculate accuracy per parameter setting, over all logs\n",
    "    for parameters, group in df.groupby(by=param_names):\n",
    "        # Calculate Accuracy for this parameter setting\n",
    "        ## --> F1-Score, but first collect all TP and FP\n",
    "        tps = 0\n",
    "        fps = 0\n",
    "        positives = 0\n",
    "        detected = 0\n",
    "\n",
    "        # Collect TP FP, etc. \n",
    "        for index, row in group.iterrows():\n",
    "            actual_cp = row[\"Actual Changepoints for Log\"]\n",
    "            detected_cp = row[\"Detected Changepoints\"]\n",
    "            tp, fp = evaluation.getTP_FP(detected_cp, actual_cp, lag_window)\n",
    "            tps += tp\n",
    "            fps += fp\n",
    "            positives += len(actual_cp)\n",
    "            detected += len(detected_cp)\n",
    "\n",
    "        try:\n",
    "            precisions[parameters] = tps / detected\n",
    "        except ZeroDivisionError:\n",
    "            precisions[parameters] = np.nan\n",
    "        \n",
    "        try:\n",
    "            recalls[parameters] = tps / positives\n",
    "        except ZeroDivisionError:\n",
    "            recalls[parameters] = np.nan\n",
    "\n",
    "        f1s[parameters] = harmonic_mean([precisions[parameters], recalls[parameters]]) # If either is nan, the harmonic mean is nan\n",
    "    return (precisions, recalls, f1s)\n",
    "\n",
    "def calculate_accuracy_metric_df(dataframe, lag_window, verbose=True):\n",
    "    computed_accuracy_dicts = dict()\n",
    "    computed_precision_dicts = dict()\n",
    "    computed_recall_dicts = dict()\n",
    "\n",
    "    accuracy_best_param = dict()\n",
    "\n",
    "    accuracies = dict()\n",
    "    for name, a_df in dataframe.groupby(by=\"Algorithm\"):\n",
    "        computed_precision_dicts[name], computed_recall_dicts[name], computed_accuracy_dicts[name] = calcAccuracy(a_df, used_parameters[name], lag_window)\n",
    "\n",
    "        best_param = max(computed_accuracy_dicts[name],  key=lambda x: computed_accuracy_dicts[name][x])\n",
    "\n",
    "        accuracy_best_param[name] = best_param\n",
    "\n",
    "        # accuracies[name] = max(computed_accuracy_dicts[name].values())\n",
    "        accuracies[name] = computed_accuracy_dicts[name][best_param]\n",
    "        if verbose:\n",
    "            print(f\"{name}: {accuracies[name]}\")\n",
    "\n",
    "    return (accuracies, computed_accuracy_dicts, computed_precision_dicts, computed_recall_dicts, accuracy_best_param)\n",
    "\n",
    "accuracies, computed_accuracy_dicts, computed_precision_dicts, computed_recall_dicts, accuracy_best_param = calculate_accuracy_metric_df(df_noiseless, LAG_WINDOW, verbose=False)\n",
    "\n",
    "pd.DataFrame([{'Algorithm': name, 'Accuracy': accuracies[name]} for name in accuracies.keys()]).sort_values(by=\"Algorithm\", ascending=True)"
   ]
  },
  {
   "cell_type": "markdown",
   "metadata": {},
   "source": [
    "#### Plot Accuracy as Barplot of Precision, Recall, F1"
   ]
  },
  {
   "cell_type": "code",
   "execution_count": null,
   "metadata": {},
   "outputs": [
    {
     "name": "stderr",
     "output_type": "stream",
     "text": [
      "C:\\Users\\laury\\AppData\\Local\\Temp\\ipykernel_1728\\1019210946.py:29: UserWarning:\n",
      "\n",
      "The palette list has more values (8) than needed (1), which may not be intended.\n",
      "\n"
     ]
    },
    {
     "data": {
      "image/png": "[encoded data removed]",
      "text/plain": [
       "<Figure size 1100x400 with 1 Axes>"
      ]
     },
     "metadata": {},
     "output_type": "display_data"
    }
   ],
   "source": [
    "\n",
    "accuracy_plot_df = pd.DataFrame(\n",
    "    [\n",
    "        {\n",
    "            \"Algorithm\": name,\n",
    "            \"Metric\": \"F1-Score\",\n",
    "            \"Value\": computed_accuracy_dicts[name][accuracy_best_param[name]]\n",
    "        }\n",
    "        for name in computed_accuracy_dicts.keys()\n",
    "    ] + [\n",
    "        {\n",
    "            \"Algorithm\": name,\n",
    "            \"Metric\": \"Precision\",\n",
    "            \"Value\": computed_precision_dicts[name][accuracy_best_param[name]]\n",
    "        }\n",
    "        for name in computed_accuracy_dicts.keys()\n",
    "    ] + [\n",
    "        {\n",
    "            \"Algorithm\": name,\n",
    "            \"Metric\": \"Recall\",\n",
    "            \"Value\": computed_recall_dicts[name][accuracy_best_param[name]]\n",
    "        }\n",
    "        for name in computed_accuracy_dicts.keys()\n",
    "    ]\n",
    ")\n",
    "\n",
    "palette=None #{\"Precision\": \"#573deb\", \"F1-Score\": \"#ff0076\", \"Recall\": \"#ffa600\"}\n",
    "palette = sns.color_palette(colors)\n",
    "plt.grid(zorder=0)\n",
    "ax = sns.barplot(x=\"Metric\", y=\"Value\", data=accuracy_plot_df, hue=\"Algorithm\", palette=palette, hue_order=ALPHA_SORT_NAMES,zorder =5)\n",
    "\n",
    "ax.figure.set_size_inches(11, 4)\n",
    "ax.spines.right.set_visible(False)\n",
    "ax.spines.top.set_visible(False)\n",
    "ax.tick_params(labelsize=18)\n",
    "ax.set_xlabel(ax.get_xlabel(), size = 20)\n",
    "ax.set_ylabel(\"\", size = 20)\n",
    "#ax.get_yaxis().set_visible(False)\n",
    "plt.legend(bbox_to_anchor=(1.01, 1), loc='upper left', borderaxespad=0,prop={'size': 14})\n",
    "\n",
    "if not os.path.exists(f\"{OUT_PATH}/Accuracy{LAG_WINDOW}\"):\n",
    "    os.makedirs(f\"{OUT_PATH}/Accuracy{LAG_WINDOW}\")\n",
    "plt.savefig(f\"{OUT_PATH}/Accuracy{LAG_WINDOW}/accuracy_c.pdf\", bbox_inches=\"tight\", format=\"pdf\")\n",
    "plt.show()"
   ]
  },
  {
   "cell_type": "markdown",
   "metadata": {},
   "source": [
    "### Plot as Points"
   ]
  },
  {
   "cell_type": "code",
   "execution_count": null,
   "metadata": {},
   "outputs": [
    {
     "name": "stderr",
     "output_type": "stream",
     "text": [
      "C:\\Users\\laury\\AppData\\Local\\Temp\\ipykernel_1728\\295339132.py:1: UserWarning:\n",
      "\n",
      "\n",
      "\n",
      "The `join` parameter is deprecated and will be removed in v0.15.0.\n",
      "\n",
      "\n"
     ]
    },
    {
     "data": {
      "image/png": "[encoded data removed]",
      "text/plain": [
       "<Figure size 1500x400 with 1 Axes>"
      ]
     },
     "metadata": {},
     "output_type": "display_data"
    }
   ],
   "source": [
    "ax = sns.pointplot(\n",
    "    x=\"Algorithm\",\n",
    "    y=\"Value\",\n",
    "    data=accuracy_plot_df,\n",
    "    hue=\"Metric\",\n",
    "    order=ALPHA_SORT_NAMES,\n",
    "    join=True,\n",
    ")\n",
    "ax.figure.set_size_inches(15, 4)\n",
    "plt.show()"
   ]
  },
  {
   "cell_type": "markdown",
   "metadata": {},
   "source": [
    "## Latency\n",
    "- Using best parameter setting\n",
    "- Same logs as above"
   ]
  },
  {
   "cell_type": "code",
   "execution_count": null,
   "metadata": {},
   "outputs": [
    {
     "data": {
      "text/html": [
       "<div>\n",
       "<style scoped>\n",
       "    .dataframe tbody tr th:only-of-type {\n",
       "        vertical-align: middle;\n",
       "    }\n",
       "\n",
       "    .dataframe tbody tr th {\n",
       "        vertical-align: top;\n",
       "    }\n",
       "\n",
       "    .dataframe thead th {\n",
       "        text-align: right;\n",
       "    }\n",
       "</style>\n",
       "<table border=\"1\" class=\"dataframe\">\n",
       "  <thead>\n",
       "    <tr style=\"text-align: right;\">\n",
       "      <th></th>\n",
       "      <th>Algorithm</th>\n",
       "      <th>Lag (Traces)</th>\n",
       "      <th>Lag (Score)</th>\n",
       "    </tr>\n",
       "  </thead>\n",
       "  <tbody>\n",
       "    <tr>\n",
       "      <th>0</th>\n",
       "      <td>LCDD</td>\n",
       "      <td>26.0</td>\n",
       "      <td>0.87</td>\n",
       "    </tr>\n",
       "  </tbody>\n",
       "</table>\n",
       "</div>"
      ],
      "text/plain": [
       "  Algorithm  Lag (Traces)  Lag (Score)\n",
       "0      LCDD          26.0         0.87"
      ]
     },
     "execution_count": 62,
     "metadata": {},
     "output_type": "execute_result"
    }
   ],
   "source": [
    "from statistics import mean\n",
    "\n",
    "def calcLatencies(df, param_names, lag_window):\n",
    "    latencies = dict()\n",
    "    for parameters, group in df.groupby(by=param_names):\n",
    "        lags = []\n",
    "        for index, row in group.iterrows():\n",
    "            actual_cp = row[\"Actual Changepoints for Log\"]\n",
    "            detected_cp = row[\"Detected Changepoints\"]\n",
    "            assignments = evaluation.assign_changepoints(detected_cp, actual_cp, lag_window)\n",
    "            for d, a in assignments:\n",
    "                lags.append(abs(d-a))\n",
    "        latencies[parameters] = lags\n",
    "    return latencies\n",
    "\n",
    "def calculate_latency(dataframe, lag_window, min_support=1, verbose=True):\n",
    "    latencies = dict() # Dict holding the best achieved latency per approach\n",
    "    scaled_latency_dicts = dict() # Dict holding the scaled mean latency per approach per parameter setting\n",
    "    computed_latency_dicts = dict() # Dict holding the raw list of detection lags per approach per parameter setting\n",
    "    best_params_latency = dict() # Dict holding the best parameter setting per approach (the one that achieves the best latency)\n",
    "    for name, a_df in dataframe.groupby(by=\"Algorithm\"):\n",
    "        result = calcLatencies(a_df, used_parameters[name], lag_window)\n",
    "        computed_latency_dicts[name] = result\n",
    "        latency_scaled_dict = {\n",
    "            param: 1-(mean(result[param])/lag_window) if len(result[param]) >= min_support else np.nan\n",
    "            for param in result.keys()\n",
    "        }\n",
    "        scaled_latency_dicts[name] = latency_scaled_dict\n",
    "        best_param = max(latency_scaled_dict,  key=lambda x: latency_scaled_dict[x] if not np.isnan(latency_scaled_dict[x]) else -1)\n",
    "\n",
    "        best_params_latency[name] = best_param\n",
    "        latencies[name] = latency_scaled_dict[best_param]\n",
    "\n",
    "        if verbose:\n",
    "            print(f\"{name}: {(1-latencies[name])*lag_window} Traces; Score: {latencies[name]}\")\n",
    "    return (latencies, scaled_latency_dicts, computed_latency_dicts, best_params_latency)\n",
    "\n",
    "latencies, scaled_latency_dicts, computed_latency_dicts, best_params_latency = calculate_latency(df_noiseless, LAG_WINDOW, min_support=MIN_SUPPORT, verbose=False)\n",
    "\n",
    "pd.DataFrame([{'Algorithm': name, 'Lag (Traces)': (1-latencies[name])*LAG_WINDOW, 'Lag (Score)': latencies[name]} for name in latencies.keys()]).sort_values(by=\"Algorithm\", ascending=True)"
   ]
  },
  {
   "cell_type": "markdown",
   "metadata": {},
   "source": [
    "#### Plot Latency\n",
    "- Plotting the observed average latency along with the corresponding standard deviation for the found best parameter setting"
   ]
  },
  {
   "cell_type": "code",
   "execution_count": null,
   "metadata": {},
   "outputs": [
    {
     "name": "stderr",
     "output_type": "stream",
     "text": [
      "C:\\Users\\laury\\AppData\\Local\\Temp\\ipykernel_1728\\501791855.py:15: FutureWarning:\n",
      "\n",
      "\n",
      "\n",
      "Passing `palette` without assigning `hue` is deprecated and will be removed in v0.14.0. Assign the `x` variable to `hue` and set `legend=False` for the same effect.\n",
      "\n",
      "\n",
      "C:\\Users\\laury\\AppData\\Local\\Temp\\ipykernel_1728\\501791855.py:15: UserWarning:\n",
      "\n",
      "The palette list has more values (8) than needed (1), which may not be intended.\n",
      "\n"
     ]
    },
    {
     "data": {
      "image/png": "[encoded data removed]",
      "text/plain": [
       "<Figure size 1400x400 with 1 Axes>"
      ]
     },
     "metadata": {},
     "output_type": "display_data"
    }
   ],
   "source": [
    "latency_plot_df = pd.DataFrame([\n",
    "    {\n",
    "        \"Algorithm\": name,\n",
    "        \"Unscaled Latency\": latency\n",
    "    }\n",
    "    for name in computed_latency_dicts.keys()\n",
    "    for latency in computed_latency_dicts[name][best_params_latency[name]]\n",
    "])\n",
    "\n",
    "ax = plt.subplots(figsize=(17, 4))\n",
    "\n",
    "# Order by latency, ascending (best is left)\n",
    "# order = [name for name, _ in sorted(latencies.items(), key=lambda x: x[1] if not np.isnan(x[1]) else 0, reverse=True)]\n",
    "# print(order)\n",
    "ax = sns.barplot(x=\"Algorithm\", y=\"Unscaled Latency\", data=latency_plot_df,palette= palette, order=ALPHA_SORT_NAMES)\n",
    "plt.ylabel(\"Latency\")# [Traces]\")\n",
    "ax.spines.right.set_visible(False)\n",
    "ax.spines.top.set_visible(False)\n",
    "ax.tick_params(labelsize=16)\n",
    "ax.set_xlabel(ax.get_xlabel(), size = 18)\n",
    "ax.set_ylabel(ax.get_ylabel(), size = 18)\n",
    "ax.figure.set_size_inches(14, 4)\n",
    "\n",
    "if not os.path.exists(f\"{OUT_PATH}/Latency{LAG_WINDOW}\"):\n",
    "    os.makedirs(f\"{OUT_PATH}/Latency{LAG_WINDOW}\")\n",
    "plt.savefig(f\"{OUT_PATH}/Latency{LAG_WINDOW}/latency.pdf\", bbox_inches=\"tight\", format=\"pdf\")\n",
    "plt.show()\n"
   ]
  },
  {
   "cell_type": "markdown",
   "metadata": {},
   "source": [
    "## Versatility"
   ]
  },
  {
   "cell_type": "markdown",
   "metadata": {},
   "source": [
    "#### Preprocessing"
   ]
  },
  {
   "cell_type": "code",
   "execution_count": null,
   "metadata": {},
   "outputs": [],
   "source": [
    "# Only use Ceravolo and Ostovar Logs because these are the only ones that have different change patterns.\n",
    "# (Theoretically we could also drop all rows containing a nan in the change pattern column? This would be more general)\n",
    "df_v = df_noiseless[df_noiseless[\"Log Source\"].isin([\"Ceravolo\", \"Ostovar\"])].copy(deep=True)"
   ]
  },
  {
   "cell_type": "markdown",
   "metadata": {},
   "source": [
    "#### Calculation\n",
    "- Recall of all logs of the same pattern, \"concatenated\", i.e., accumulate TP and FP first\n",
    "- Divide this by the number of change patterns"
   ]
  },
  {
   "cell_type": "code",
   "execution_count": null,
   "metadata": {},
   "outputs": [
    {
     "data": {
      "text/html": [
       "<div>\n",
       "<style scoped>\n",
       "    .dataframe tbody tr th:only-of-type {\n",
       "        vertical-align: middle;\n",
       "    }\n",
       "\n",
       "    .dataframe tbody tr th {\n",
       "        vertical-align: top;\n",
       "    }\n",
       "\n",
       "    .dataframe thead th {\n",
       "        text-align: right;\n",
       "    }\n",
       "</style>\n",
       "<table border=\"1\" class=\"dataframe\">\n",
       "  <thead>\n",
       "    <tr style=\"text-align: right;\">\n",
       "      <th></th>\n",
       "      <th>Algorithm</th>\n",
       "      <th>Versatility</th>\n",
       "    </tr>\n",
       "  </thead>\n",
       "  <tbody>\n",
       "    <tr>\n",
       "      <th>0</th>\n",
       "      <td>LCDD</td>\n",
       "      <td>0.708333</td>\n",
       "    </tr>\n",
       "  </tbody>\n",
       "</table>\n",
       "</div>"
      ],
      "text/plain": [
       "  Algorithm  Versatility\n",
       "0      LCDD     0.708333"
      ]
     },
     "execution_count": 65,
     "metadata": {},
     "output_type": "execute_result"
    }
   ],
   "source": [
    "def calc_versatility(dataframe, lag_window, verbose=True):\n",
    "\n",
    "    versatility_recall_dicts = dict() # Map approach to a dictionary mapping param setting to mean recall over all change patterns\n",
    "    versatilities = dict() # Map approach to versatility score\n",
    "    best_params_versatility = dict() # Map approach to best param setting\n",
    "\n",
    "    for name, group in dataframe.groupby(by=\"Algorithm\"):\n",
    "        recalls_of_this_approach = dict()\n",
    "        for params, params_group in group.groupby(by=used_parameters[name]):\n",
    "            recalls = dict()\n",
    "            for change_pattern, cp_group in params_group.groupby(by=\"Change Pattern\"):\n",
    "                TPS = 0\n",
    "                POSITIVES = 0\n",
    "                # TP / TP+FN = TP / POSTIVES = Recall\n",
    "                for index, row in cp_group.iterrows():\n",
    "                    detected_changepoints = row[\"Detected Changepoints\"]\n",
    "                    actual_changepoints = row[\"Actual Changepoints for Log\"]\n",
    "\n",
    "                    tp, _ = evaluation.getTP_FP(detected_changepoints, actual_changepoints, lag_window)\n",
    "\n",
    "                    TPS += tp\n",
    "                    POSITIVES += len(actual_changepoints)\n",
    "\n",
    "                # Recall of this algorithm for this change pattern:\n",
    "                recall = TPS / POSITIVES if POSITIVES != 0 else np.nan # Only the case if there are no actual changepoints, which should not be the case\n",
    "                recalls[change_pattern] = recall\n",
    "            recalls_of_this_approach[params] = recalls\n",
    "        versatility_recall_dicts[name] = recalls_of_this_approach\n",
    "        best_param = max(recalls_of_this_approach, key=lambda x: np.nanmean(list(recalls_of_this_approach[x].values()))) # .values() gives us all the recalls for all change patterns on this param setting\n",
    "        best_params_versatility[name] = best_param\n",
    "        versatilities[name] = np.nanmean(list(\n",
    "            recalls_of_this_approach[best_param].values()\n",
    "        ))\n",
    "        \n",
    "        if verbose:\n",
    "            print(f\"{name}: {versatilities[name]}\")\n",
    "        \n",
    "    return versatilities, versatility_recall_dicts, best_params_versatility\n",
    "\n",
    "versatilities, versatility_recall_dicts, best_params_versatility = calc_versatility(df_v, LAG_WINDOW, verbose=False)\n",
    "\n",
    "pd.DataFrame([{'Algorithm': name, 'Versatility': versatilities[name]} for name in versatilities.keys()]).sort_values(by=\"Algorithm\", ascending=True)\n"
   ]
  },
  {
   "cell_type": "markdown",
   "metadata": {},
   "source": [
    "#### Plot\n",
    "- Barplot with \"bar\" for each change pattern and approach"
   ]
  },
  {
   "cell_type": "code",
   "execution_count": null,
   "metadata": {},
   "outputs": [
    {
     "data": {
      "image/png": "[encoded data removed]",
      "text/plain": [
       "<Figure size 2000x400 with 1 Axes>"
      ]
     },
     "metadata": {},
     "output_type": "display_data"
    }
   ],
   "source": [
    "df_vers_plot = pd.DataFrame([\n",
    "    {\n",
    "        \"Algorithm\": name,\n",
    "        \"Change Pattern\": cp,\n",
    "        \"Versatility\": versatility_recall_dicts[name][best_params_versatility[name]][cp]\n",
    "    }\n",
    "    for name in versatility_recall_dicts.keys()\n",
    "    for cp in versatility_recall_dicts[name][best_params_versatility[name]].keys()\n",
    "])\n",
    "\n",
    "\n",
    "fig,ax = plt.subplots(figsize=(20, 4))\n",
    "sns.barplot(x=\"Change Pattern\", y=\"Versatility\", data=df_vers_plot, hue=\"Algorithm\", ax=ax, hue_order=ALPHA_SORT_NAMES)\n",
    "plt.legend(bbox_to_anchor=(1.01, 1), loc='upper left', borderaxespad=0)\n",
    "\n",
    "if not os.path.exists(f\"{OUT_PATH}/Versatility{LAG_WINDOW}\"):\n",
    "    os.makedirs(f\"{OUT_PATH}/Versatility{LAG_WINDOW}\")\n",
    "plt.savefig(f\"{OUT_PATH}/Versatility{LAG_WINDOW}/versatility.pdf\", bbox_inches=\"tight\", format=\"pdf\")\n",
    "plt.show()"
   ]
  },
  {
   "cell_type": "code",
   "execution_count": null,
   "metadata": {},
   "outputs": [
    {
     "data": {
      "image/png": "[encoded data removed]",
      "text/plain": [
       "<Figure size 2000x400 with 1 Axes>"
      ]
     },
     "metadata": {},
     "output_type": "display_data"
    }
   ],
   "source": [
    "change_patterns = sorted(list(df_vers_plot[\"Change Pattern\"].unique()))\n",
    "ax = sns.pointplot(\n",
    "    x=\"Change Pattern\",\n",
    "    y=\"Versatility\",\n",
    "    data=df_vers_plot,\n",
    "    hue=\"Algorithm\",\n",
    "    hue_order=ALPHA_SORT_NAMES,\n",
    "    order=change_patterns\n",
    ")\n",
    "ax.figure.set_size_inches(20,4)\n",
    "plt.legend(bbox_to_anchor=(1.01, 1), loc='upper left', borderaxespad=0)\n",
    "plt.show()"
   ]
  },
  {
   "cell_type": "code",
   "execution_count": null,
   "metadata": {},
   "outputs": [
    {
     "data": {
      "image/png": "[encoded data removed]",
      "text/plain": [
       "<Figure size 2000x400 with 1 Axes>"
      ]
     },
     "metadata": {},
     "output_type": "display_data"
    }
   ],
   "source": [
    "# Plot again, but split in half\n",
    "first_half = change_patterns[:len(change_patterns)//2]\n",
    "second_half = change_patterns[len(change_patterns)//2:]\n",
    "fig,ax = plt.subplots(figsize=(20, 4))\n",
    "sns.barplot(x=\"Change Pattern\", y=\"Versatility\", data=df_vers_plot[df_vers_plot[\"Change Pattern\"].isin(first_half)], hue=\"Algorithm\", order=first_half, ax=ax, hue_order=ALPHA_SORT_NAMES)\n",
    "plt.legend(bbox_to_anchor=(1.01, 1), loc='upper left', borderaxespad=0)\n",
    "\n",
    "plt.savefig(f\"{OUT_PATH}/Versatility{LAG_WINDOW}/versatility_split_1.pdf\", bbox_inches=\"tight\", format=\"pdf\")\n",
    "plt.show()"
   ]
  },
  {
   "cell_type": "code",
   "execution_count": null,
   "metadata": {},
   "outputs": [
    {
     "data": {
      "image/png": "[encoded data removed]",
      "text/plain": [
       "<Figure size 2000x400 with 1 Axes>"
      ]
     },
     "metadata": {},
     "output_type": "display_data"
    }
   ],
   "source": [
    "fig2,ax2 = plt.subplots(figsize=(20, 4))\n",
    "sns.barplot(x=\"Change Pattern\", y=\"Versatility\", data=df_vers_plot[df_vers_plot[\"Change Pattern\"].isin(second_half)], hue=\"Algorithm\", order=second_half, ax=ax2, hue_order=ALPHA_SORT_NAMES)\n",
    "plt.legend(bbox_to_anchor=(1.01, 1), loc='upper left', borderaxespad=0)\n",
    "plt.savefig(f\"{OUT_PATH}/Versatility{LAG_WINDOW}/versatility_split_2.pdf\", bbox_inches=\"tight\", format=\"pdf\")\n",
    "plt.show()"
   ]
  },
  {
   "cell_type": "markdown",
   "metadata": {},
   "source": [
    "#### Plot as Radar Chart (using plotly)"
   ]
  },
  {
   "cell_type": "code",
   "execution_count": null,
   "metadata": {},
   "outputs": [
    {
     "name": "stdout",
     "output_type": "stream",
     "text": [
      "LCDD\n"
     ]
    },
    {
     "data": {
      "application/vnd.plotly.v1+json": {
       "config": {
        "plotlyServerURL": "https://plot.ly"
       },
       "data": [
        {
         "fill": "toself",
         "hovertemplate": "Algorithm=LCDD<br>Versatility=%{r}<br>Change Pattern=%{theta}<extra></extra>",
         "legendgroup": "LCDD",
         "line": {
          "color": "#DB444B",
          "dash": "solid"
         },
         "marker": {
          "symbol": "circle"
         },
         "mode": "lines",
         "name": "LCDD",
         "r": {
          "bdata": "VVVVVVVV5T8AAAAAAAAAAAAAAAAAAPA/AAAAAAAA8D8AAAAAAADwPwAAAAAAAOA/AAAAAAAAAABVVVVVVVXlPwAAAAAAAAAAAAAAAAAA8D8AAAAAAADgPwAAAAAAAPA/AAAAAAAA8D8AAAAAAADwPwAAAAAAAPA/AAAAAAAA8D9VVVVVVVXlPw==",
          "dtype": "f8"
         },
         "showlegend": true,
         "subplot": "polar",
         "theta": [
          "cb",
          "cd",
          "cf",
          "cm",
          "cp",
          "cre",
          "fr",
          "lp",
          "pl",
          "pm",
          "pre",
          "re",
          "rp",
          "sm",
          "sre",
          "sw",
          "cb"
         ],
         "type": "scatterpolar"
        }
       ],
       "layout": {
        "font": {
         "size": 18
        },
        "legend": {
         "title": {
          "text": "Algorithm"
         },
         "tracegroupgap": 0
        },
        "margin": {
         "t": 60
        },
        "polar": {
         "angularaxis": {
          "direction": "clockwise",
          "rotation": 90
         },
         "domain": {
          "x": [
           0,
           1
          ],
          "y": [
           0,
           1
          ]
         }
        },
        "showlegend": false,
        "template": {
         "data": {
          "bar": [
           {
            "error_x": {
             "color": "#2a3f5f"
            },
            "error_y": {
             "color": "#2a3f5f"
            },
            "marker": {
             "line": {
              "color": "#E5ECF6",
              "width": 0.5
             },
             "pattern": {
              "fillmode": "overlay",
              "size": 10,
              "solidity": 0.2
             }
            },
            "type": "bar"
           }
          ],
          "barpolar": [
           {
            "marker": {
             "line": {
              "color": "#E5ECF6",
              "width": 0.5
             },
             "pattern": {
              "fillmode": "overlay",
              "size": 10,
              "solidity": 0.2
             }
            },
            "type": "barpolar"
           }
          ],
          "carpet": [
           {
            "aaxis": {
             "endlinecolor": "#2a3f5f",
             "gridcolor": "white",
             "linecolor": "white",
             "minorgridcolor": "white",
             "startlinecolor": "#2a3f5f"
            },
            "baxis": {
             "endlinecolor": "#2a3f5f",
             "gridcolor": "white",
             "linecolor": "white",
             "minorgridcolor": "white",
             "startlinecolor": "#2a3f5f"
            },
            "type": "carpet"
           }
          ],
          "choropleth": [
           {
            "colorbar": {
             "outlinewidth": 0,
             "ticks": ""
            },
            "type": "choropleth"
           }
          ],
          "contour": [
           {
            "colorbar": {
             "outlinewidth": 0,
             "ticks": ""
            },
            "colorscale": [
             [
              0,
              "#0d0887"
             ],
             [
              0.1111111111111111,
              "#46039f"
             ],
             [
              0.2222222222222222,
              "#7201a8"
             ],
             [
              0.3333333333333333,
              "#9c179e"
             ],
             [
              0.4444444444444444,
              "#bd3786"
             ],
             [
              0.5555555555555556,
              "#d8576b"
             ],
             [
              0.6666666666666666,
              "#ed7953"
             ],
             [
              0.7777777777777778,
              "#fb9f3a"
             ],
             [
              0.8888888888888888,
              "#fdca26"
             ],
             [
              1,
              "#f0f921"
             ]
            ],
            "type": "contour"
           }
          ],
          "contourcarpet": [
           {
            "colorbar": {
             "outlinewidth": 0,
             "ticks": ""
            },
            "type": "contourcarpet"
           }
          ],
          "heatmap": [
           {
            "colorbar": {
             "outlinewidth": 0,
             "ticks": ""
            },
            "colorscale": [
             [
              0,
              "#0d0887"
             ],
             [
              0.1111111111111111,
              "#46039f"
             ],
             [
              0.2222222222222222,
              "#7201a8"
             ],
             [
              0.3333333333333333,
              "#9c179e"
             ],
             [
              0.4444444444444444,
              "#bd3786"
             ],
             [
              0.5555555555555556,
              "#d8576b"
             ],
             [
              0.6666666666666666,
              "#ed7953"
             ],
             [
              0.7777777777777778,
              "#fb9f3a"
             ],
             [
              0.8888888888888888,
              "#fdca26"
             ],
             [
              1,
              "#f0f921"
             ]
            ],
            "type": "heatmap"
           }
          ],
          "histogram": [
           {
            "marker": {
             "pattern": {
              "fillmode": "overlay",
              "size": 10,
              "solidity": 0.2
             }
            },
            "type": "histogram"
           }
          ],
          "histogram2d": [
           {
            "colorbar": {
             "outlinewidth": 0,
             "ticks": ""
            },
            "colorscale": [
             [
              0,
              "#0d0887"
             ],
             [
              0.1111111111111111,
              "#46039f"
             ],
             [
              0.2222222222222222,
              "#7201a8"
             ],
             [
              0.3333333333333333,
              "#9c179e"
             ],
             [
              0.4444444444444444,
              "#bd3786"
             ],
             [
              0.5555555555555556,
              "#d8576b"
             ],
             [
              0.6666666666666666,
              "#ed7953"
             ],
             [
              0.7777777777777778,
              "#fb9f3a"
             ],
             [
              0.8888888888888888,
              "#fdca26"
             ],
             [
              1,
              "#f0f921"
             ]
            ],
            "type": "histogram2d"
           }
          ],
          "histogram2dcontour": [
           {
            "colorbar": {
             "outlinewidth": 0,
             "ticks": ""
            },
            "colorscale": [
             [
              0,
              "#0d0887"
             ],
             [
              0.1111111111111111,
              "#46039f"
             ],
             [
              0.2222222222222222,
              "#7201a8"
             ],
             [
              0.3333333333333333,
              "#9c179e"
             ],
             [
              0.4444444444444444,
              "#bd3786"
             ],
             [
              0.5555555555555556,
              "#d8576b"
             ],
             [
              0.6666666666666666,
              "#ed7953"
             ],
             [
              0.7777777777777778,
              "#fb9f3a"
             ],
             [
              0.8888888888888888,
              "#fdca26"
             ],
             [
              1,
              "#f0f921"
             ]
            ],
            "type": "histogram2dcontour"
           }
          ],
          "mesh3d": [
           {
            "colorbar": {
             "outlinewidth": 0,
             "ticks": ""
            },
            "type": "mesh3d"
           }
          ],
          "parcoords": [
           {
            "line": {
             "colorbar": {
              "outlinewidth": 0,
              "ticks": ""
             }
            },
            "type": "parcoords"
           }
          ],
          "pie": [
           {
            "automargin": true,
            "type": "pie"
           }
          ],
          "scatter": [
           {
            "fillpattern": {
             "fillmode": "overlay",
             "size": 10,
             "solidity": 0.2
            },
            "type": "scatter"
           }
          ],
          "scatter3d": [
           {
            "line": {
             "colorbar": {
              "outlinewidth": 0,
              "ticks": ""
             }
            },
            "marker": {
             "colorbar": {
              "outlinewidth": 0,
              "ticks": ""
             }
            },
            "type": "scatter3d"
           }
          ],
          "scattercarpet": [
           {
            "marker": {
             "colorbar": {
              "outlinewidth": 0,
              "ticks": ""
             }
            },
            "type": "scattercarpet"
           }
          ],
          "scattergeo": [
           {
            "marker": {
             "colorbar": {
              "outlinewidth": 0,
              "ticks": ""
             }
            },
            "type": "scattergeo"
           }
          ],
          "scattergl": [
           {
            "marker": {
             "colorbar": {
              "outlinewidth": 0,
              "ticks": ""
             }
            },
            "type": "scattergl"
           }
          ],
          "scattermap": [
           {
            "marker": {
             "colorbar": {
              "outlinewidth": 0,
              "ticks": ""
             }
            },
            "type": "scattermap"
           }
          ],
          "scattermapbox": [
           {
            "marker": {
             "colorbar": {
              "outlinewidth": 0,
              "ticks": ""
             }
            },
            "type": "scattermapbox"
           }
          ],
          "scatterpolar": [
           {
            "marker": {
             "colorbar": {
              "outlinewidth": 0,
              "ticks": ""
             }
            },
            "type": "scatterpolar"
           }
          ],
          "scatterpolargl": [
           {
            "marker": {
             "colorbar": {
              "outlinewidth": 0,
              "ticks": ""
             }
            },
            "type": "scatterpolargl"
           }
          ],
          "scatterternary": [
           {
            "marker": {
             "colorbar": {
              "outlinewidth": 0,
              "ticks": ""
             }
            },
            "type": "scatterternary"
           }
          ],
          "surface": [
           {
            "colorbar": {
             "outlinewidth": 0,
             "ticks": ""
            },
            "colorscale": [
             [
              0,
              "#0d0887"
             ],
             [
              0.1111111111111111,
              "#46039f"
             ],
             [
              0.2222222222222222,
              "#7201a8"
             ],
             [
              0.3333333333333333,
              "#9c179e"
             ],
             [
              0.4444444444444444,
              "#bd3786"
             ],
             [
              0.5555555555555556,
              "#d8576b"
             ],
             [
              0.6666666666666666,
              "#ed7953"
             ],
             [
              0.7777777777777778,
              "#fb9f3a"
             ],
             [
              0.8888888888888888,
              "#fdca26"
             ],
             [
              1,
              "#f0f921"
             ]
            ],
            "type": "surface"
           }
          ],
          "table": [
           {
            "cells": {
             "fill": {
              "color": "#EBF0F8"
             },
             "line": {
              "color": "white"
             }
            },
            "header": {
             "fill": {
              "color": "#C8D4E3"
             },
             "line": {
              "color": "white"
             }
            },
            "type": "table"
           }
          ]
         },
         "layout": {
          "annotationdefaults": {
           "arrowcolor": "#2a3f5f",
           "arrowhead": 0,
           "arrowwidth": 1
          },
          "autotypenumbers": "strict",
          "coloraxis": {
           "colorbar": {
            "outlinewidth": 0,
            "ticks": ""
           }
          },
          "colorscale": {
           "diverging": [
            [
             0,
             "#8e0152"
            ],
            [
             0.1,
             "#c51b7d"
            ],
            [
             0.2,
             "#de77ae"
            ],
            [
             0.3,
             "#f1b6da"
            ],
            [
             0.4,
             "#fde0ef"
            ],
            [
             0.5,
             "#f7f7f7"
            ],
            [
             0.6,
             "#e6f5d0"
            ],
            [
             0.7,
             "#b8e186"
            ],
            [
             0.8,
             "#7fbc41"
            ],
            [
             0.9,
             "#4d9221"
            ],
            [
             1,
             "#276419"
            ]
           ],
           "sequential": [
            [
             0,
             "#0d0887"
            ],
            [
             0.1111111111111111,
             "#46039f"
            ],
            [
             0.2222222222222222,
             "#7201a8"
            ],
            [
             0.3333333333333333,
             "#9c179e"
            ],
            [
             0.4444444444444444,
             "#bd3786"
            ],
            [
             0.5555555555555556,
             "#d8576b"
            ],
            [
             0.6666666666666666,
             "#ed7953"
            ],
            [
             0.7777777777777778,
             "#fb9f3a"
            ],
            [
             0.8888888888888888,
             "#fdca26"
            ],
            [
             1,
             "#f0f921"
            ]
           ],
           "sequentialminus": [
            [
             0,
             "#0d0887"
            ],
            [
             0.1111111111111111,
             "#46039f"
            ],
            [
             0.2222222222222222,
             "#7201a8"
            ],
            [
             0.3333333333333333,
             "#9c179e"
            ],
            [
             0.4444444444444444,
             "#bd3786"
            ],
            [
             0.5555555555555556,
             "#d8576b"
            ],
            [
             0.6666666666666666,
             "#ed7953"
            ],
            [
             0.7777777777777778,
             "#fb9f3a"
            ],
            [
             0.8888888888888888,
             "#fdca26"
            ],
            [
             1,
             "#f0f921"
            ]
           ]
          },
          "colorway": [
           "#636efa",
           "#EF553B",
           "#00cc96",
           "#ab63fa",
           "#FFA15A",
           "#19d3f3",
           "#FF6692",
           "#B6E880",
           "#FF97FF",
           "#FECB52"
          ],
          "font": {
           "color": "#2a3f5f"
          },
          "geo": {
           "bgcolor": "white",
           "lakecolor": "white",
           "landcolor": "#E5ECF6",
           "showlakes": true,
           "showland": true,
           "subunitcolor": "white"
          },
          "hoverlabel": {
           "align": "left"
          },
          "hovermode": "closest",
          "mapbox": {
           "style": "light"
          },
          "paper_bgcolor": "white",
          "plot_bgcolor": "#E5ECF6",
          "polar": {
           "angularaxis": {
            "gridcolor": "white",
            "linecolor": "white",
            "ticks": ""
           },
           "bgcolor": "#E5ECF6",
           "radialaxis": {
            "gridcolor": "white",
            "linecolor": "white",
            "ticks": ""
           }
          },
          "scene": {
           "xaxis": {
            "backgroundcolor": "#E5ECF6",
            "gridcolor": "white",
            "gridwidth": 2,
            "linecolor": "white",
            "showbackground": true,
            "ticks": "",
            "zerolinecolor": "white"
           },
           "yaxis": {
            "backgroundcolor": "#E5ECF6",
            "gridcolor": "white",
            "gridwidth": 2,
            "linecolor": "white",
            "showbackground": true,
            "ticks": "",
            "zerolinecolor": "white"
           },
           "zaxis": {
            "backgroundcolor": "#E5ECF6",
            "gridcolor": "white",
            "gridwidth": 2,
            "linecolor": "white",
            "showbackground": true,
            "ticks": "",
            "zerolinecolor": "white"
           }
          },
          "shapedefaults": {
           "line": {
            "color": "#2a3f5f"
           }
          },
          "ternary": {
           "aaxis": {
            "gridcolor": "white",
            "linecolor": "white",
            "ticks": ""
           },
           "baxis": {
            "gridcolor": "white",
            "linecolor": "white",
            "ticks": ""
           },
           "bgcolor": "#E5ECF6",
           "caxis": {
            "gridcolor": "white",
            "linecolor": "white",
            "ticks": ""
           }
          },
          "title": {
           "x": 0.05
          },
          "xaxis": {
           "automargin": true,
           "gridcolor": "white",
           "linecolor": "white",
           "ticks": "",
           "title": {
            "standoff": 15
           },
           "zerolinecolor": "white",
           "zerolinewidth": 2
          },
          "yaxis": {
           "automargin": true,
           "gridcolor": "white",
           "linecolor": "white",
           "ticks": "",
           "title": {
            "standoff": 15
           },
           "zerolinecolor": "white",
           "zerolinewidth": 2
          }
         }
        },
        "title": {
         "x": 0.5
        }
       }
      }
     },
     "metadata": {},
     "output_type": "display_data"
    }
   ],
   "source": [
    "import plotly.express as px\n",
    "import plotly.graph_objects as go\n",
    "from plotly.subplots import make_subplots\n",
    "\n",
    "\n",
    "plotly_default_colors = colors#px.colors.qualitative.Plotly\n",
    "\n",
    "fill_colors = {\n",
    "    name: plotly_default_colors[idx]\n",
    "    for idx,name in enumerate(df_vers_plot[\"Algorithm\"].unique())\n",
    "}\n",
    "\n",
    "# ALL RADAR CHARTS IN ONE PLOT, I DONT LIKE THE LAYOUT THOUGH :/\n",
    "# fig = make_subplots(rows=2, cols=4, specs=[[{'type': 'polar'}]*4]*2, subplot_titles=df_vers_plot[\"Algorithm\"].unique())#, start_cell=\"bottom-left\")\n",
    "# for idx, (alg, dataframe) in enumerate(df_vers_plot.groupby(by=\"Algorithm\")):\n",
    "#     sub_df = df_vers_plot[df_vers_plot[\"Algorithm\"] == alg]\n",
    "#     fig.add_trace(go.Scatterpolar(\n",
    "#         name = alg,\n",
    "#         r=sub_df['Versatility'].values,\n",
    "#         theta=sub_df['Change Pattern'].values,\n",
    "#         fillcolor=fill_colors[alg],\n",
    "#         line={'color': fill_colors[alg]}\n",
    "#     ), row=idx//4+1, col=idx%4+1 )\n",
    "# fig.update_traces(fill='toself')\n",
    "\n",
    "# ALL APPROACHES IN THE SAME RADAR CHART - NOT SO READABLE\n",
    "# fig = go.Figure()\n",
    "# for alg, dataframe in df_vers_plot.groupby(by=\"Algorithm\"):\n",
    "#     fig.add_trace(go.Scatterpolar(\n",
    "#       r = dataframe[\"Versatility\"],\n",
    "#       theta = dataframe[\"Change Pattern\"],\n",
    "#       fill = 'toself',\n",
    "#       name = alg\n",
    "# ))\n",
    "\n",
    "# 1 RADAR CHART PER APPROACH - SEPERATE PLOTS - This is my favorite; Can make a nice layout in latex\n",
    "\n",
    "import warnings\n",
    "# Futurewarnings will be risen by pandas within plotly, but this is plotly's fault, not ours\n",
    "with warnings.catch_warnings():\n",
    "    warnings.simplefilter(action='ignore', category=FutureWarning)\n",
    "    for alg, dataframe in df_vers_plot.groupby(by=\"Algorithm\"):\n",
    "        fig = px.line_polar(\n",
    "            df_vers_plot[df_vers_plot[\"Algorithm\"] == alg],\n",
    "            r='Versatility',\n",
    "            theta='Change Pattern',\n",
    "            line_close=True,\n",
    "            color='Algorithm',\n",
    "            color_discrete_map=fill_colors,\n",
    "            title=None# alg, # Set this to alg if we want the title, I was planning on setting the title in latex\n",
    "        )\n",
    "        fig.update_layout(showlegend=False, title_x=0.5, font=dict(size=18)) # Disable legend (as we have only one algorithm per plot) and center title (if present)\n",
    "        fig.update_traces(fill='toself')\n",
    "\n",
    "        if not os.path.exists(f\"{OUT_PATH}/Versatility{LAG_WINDOW}/Radar_Charts\"):\n",
    "            os.makedirs(f\"{OUT_PATH}/Versatility{LAG_WINDOW}/Radar_Charts\")\n",
    "        fig.write_image(f\"{OUT_PATH}/Versatility{LAG_WINDOW}/Radar_Charts/radar_chart_{alg.replace(' ','_')}.pdf\", format=\"pdf\")\n",
    "        print(alg)\n",
    "        fig.show()\n"
   ]
  },
  {
   "cell_type": "markdown",
   "metadata": {},
   "source": [
    "## Scalability\n",
    "- Mean Duration\n",
    "- Across ***all*** logs this time!"
   ]
  },
  {
   "cell_type": "code",
   "execution_count": null,
   "metadata": {},
   "outputs": [
    {
     "name": "stderr",
     "output_type": "stream",
     "text": [
      "C:\\Users\\laury\\AppData\\Local\\Temp\\ipykernel_1728\\878668481.py:4: DeprecationWarning:\n",
      "\n",
      "datetime.datetime.utcfromtimestamp() is deprecated and scheduled for removal in a future version. Use timezone-aware objects to represent datetimes in UTC: datetime.datetime.fromtimestamp(timestamp, datetime.UTC).\n",
      "\n"
     ]
    },
    {
     "data": {
      "text/html": [
       "<div>\n",
       "<style scoped>\n",
       "    .dataframe tbody tr th:only-of-type {\n",
       "        vertical-align: middle;\n",
       "    }\n",
       "\n",
       "    .dataframe tbody tr th {\n",
       "        vertical-align: top;\n",
       "    }\n",
       "\n",
       "    .dataframe thead th {\n",
       "        text-align: right;\n",
       "    }\n",
       "</style>\n",
       "<table border=\"1\" class=\"dataframe\">\n",
       "  <thead>\n",
       "    <tr style=\"text-align: right;\">\n",
       "      <th></th>\n",
       "      <th>Algorithm</th>\n",
       "      <th>Scalability</th>\n",
       "      <th>Average Seconds</th>\n",
       "    </tr>\n",
       "  </thead>\n",
       "  <tbody>\n",
       "    <tr>\n",
       "      <th>0</th>\n",
       "      <td>LCDD</td>\n",
       "      <td>00:00:00</td>\n",
       "      <td>0.100818</td>\n",
       "    </tr>\n",
       "  </tbody>\n",
       "</table>\n",
       "</div>"
      ],
      "text/plain": [
       "  Algorithm Scalability  Average Seconds\n",
       "0      LCDD    00:00:00         0.100818"
      ]
     },
     "execution_count": 71,
     "metadata": {},
     "output_type": "execute_result"
    }
   ],
   "source": [
    "scalabilities = dict()\n",
    "for name, a_df in df.groupby(\"Algorithm\"):\n",
    "    result = a_df[\"Duration (Seconds)\"].mean()\n",
    "    result_str = datetime.strftime(datetime.utcfromtimestamp(result), '%H:%M:%S')\n",
    "    scalabilities[name] = {\"avg_seconds\": result, \"str\": result_str}\n",
    "\n",
    "pd.DataFrame([{'Algorithm': name, 'Scalability': scalabilities[name][\"str\"], 'Average Seconds': scalabilities[name]['avg_seconds']} for name in scalabilities.keys()]).sort_values(by=\"Algorithm\", ascending=True)"
   ]
  },
  {
   "attachments": {},
   "cell_type": "markdown",
   "metadata": {},
   "source": [
    "#### Plot Boxplot of Mean Absolute Duration"
   ]
  },
  {
   "cell_type": "code",
   "execution_count": null,
   "metadata": {},
   "outputs": [
    {
     "name": "stderr",
     "output_type": "stream",
     "text": [
      "C:\\Users\\laury\\AppData\\Local\\Temp\\ipykernel_1728\\2114683517.py:16: FutureWarning:\n",
      "\n",
      "\n",
      "\n",
      "Passing `palette` without assigning `hue` is deprecated and will be removed in v0.14.0. Assign the `y` variable to `hue` and set `legend=False` for the same effect.\n",
      "\n",
      "\n",
      "C:\\Users\\laury\\AppData\\Local\\Temp\\ipykernel_1728\\2114683517.py:16: UserWarning:\n",
      "\n",
      "The palette list has more values (8) than needed (1), which may not be intended.\n",
      "\n"
     ]
    },
    {
     "data": {
      "image/png": "[encoded data removed]",
      "text/plain": [
       "<Figure size 1000x500 with 1 Axes>"
      ]
     },
     "metadata": {},
     "output_type": "display_data"
    }
   ],
   "source": [
    "scalability_plot_df = pd.DataFrame([\n",
    "    {\n",
    "        \"Algorithm\": name,\n",
    "        \"Duration\": duration / 60\n",
    "    }\n",
    "    for name, a_df in dfs\n",
    "    for duration in a_df[\"Duration (Seconds)\"].tolist()\n",
    "])\n",
    "\n",
    "fig, ax = plt.subplots(figsize=(10, 5))\n",
    "ax.set_xlabel(\"Duration [Minutes]\")\n",
    "\n",
    "sorted_names = list(scalabilities.items())\n",
    "sorted_names.sort(key=lambda x: x[1][\"avg_seconds\"])\n",
    "\n",
    "ax = sns.boxplot(\n",
    "    data=scalability_plot_df,\n",
    "    order=ALPHA_SORT_NAMES,#[name for name, _ in sorted_names] if False else None, # Disable sorting for now, maybe this means that the order is the same in every plot\n",
    "    x=\"Duration\",\n",
    "    y=\"Algorithm\",\n",
    "    palette = palette,\n",
    "    width=1,\n",
    "    ax=ax,\n",
    "    fliersize=0\n",
    ")\n",
    "#ax.figure.set_size_inches(14, 4)\n",
    "ax.spines.right.set_visible(False)\n",
    "ax.spines.top.set_visible(False)\n",
    "ax.tick_params(labelsize=16)\n",
    "ax.set_xlabel(ax.get_xlabel(), size = 18)\n",
    "ax.set_ylabel(ax.get_ylabel(), size = 18)\n",
    "plt.xlabel(\"Duration [Minutes]\")\n",
    "\n",
    "if not os.path.exists(f\"{OUT_PATH}/Scalability{LAG_WINDOW}\"):\n",
    "    os.makedirs(f\"{OUT_PATH}/Scalability{LAG_WINDOW}\")\n",
    "plt.savefig(f\"{OUT_PATH}/Scalability{LAG_WINDOW}/scalability.pdf\", bbox_inches=\"tight\", format=\"pdf\")\n",
    "plt.show()"
   ]
  },
  {
   "cell_type": "markdown",
   "metadata": {},
   "source": [
    "#### Plot as Barplot as well"
   ]
  },
  {
   "cell_type": "code",
   "execution_count": null,
   "metadata": {},
   "outputs": [
    {
     "name": "stderr",
     "output_type": "stream",
     "text": [
      "C:\\Users\\laury\\AppData\\Local\\Temp\\ipykernel_1728\\824548133.py:16: FutureWarning:\n",
      "\n",
      "\n",
      "\n",
      "Passing `palette` without assigning `hue` is deprecated and will be removed in v0.14.0. Assign the `x` variable to `hue` and set `legend=False` for the same effect.\n",
      "\n",
      "\n",
      "C:\\Users\\laury\\AppData\\Local\\Temp\\ipykernel_1728\\824548133.py:16: UserWarning:\n",
      "\n",
      "The palette list has more values (8) than needed (1), which may not be intended.\n",
      "\n"
     ]
    },
    {
     "data": {
      "image/png": "[encoded data removed]",
      "text/plain": [
       "<Figure size 1200x400 with 1 Axes>"
      ]
     },
     "metadata": {},
     "output_type": "display_data"
    }
   ],
   "source": [
    "scalability_barplot_df = pd.DataFrame([\n",
    "    {\n",
    "        \"Algorithm\": name,\n",
    "        \"Duration\": duration / 60\n",
    "    }\n",
    "    for name, a_df in dfs\n",
    "    for duration in a_df[\"Duration (Seconds)\"].tolist()\n",
    "])\n",
    "\n",
    "ax = plt.subplots(figsize=(17, 4))\n",
    "\n",
    "# Order by latency, ascending (best is left)\n",
    "# order = [name for name, _ in sorted(latencies.items(), key=lambda x: x[1] if not np.isnan(x[1]) else 0, reverse=True)]\n",
    "# print(order)\n",
    "\n",
    "ax = sns.barplot(x=\"Algorithm\", y=\"Duration\", data=scalability_barplot_df,palette = palette, order=ALPHA_SORT_NAMES)\n",
    "ax.figure.set_size_inches(12, 4)\n",
    "ax.spines.right.set_visible(False)\n",
    "ax.spines.top.set_visible(False)\n",
    "ax.tick_params(labelsize=16)\n",
    "ax.set_xlabel(ax.get_xlabel(), size = 18)\n",
    "ax.set_ylabel(ax.get_ylabel(), size = 18)\n",
    "plt.ylabel(\"Duration [Minutes]\")\n",
    "plt.savefig(f\"{OUT_PATH}/Scalability{LAG_WINDOW}/scalability_barplot.pdf\", bbox_inches=\"tight\", format=\"pdf\")\n",
    "plt.show()"
   ]
  },
  {
   "attachments": {},
   "cell_type": "markdown",
   "metadata": {},
   "source": [
    "## Seconds per Case/Event"
   ]
  },
  {
   "cell_type": "code",
   "execution_count": null,
   "metadata": {},
   "outputs": [
    {
     "name": "stderr",
     "output_type": "stream",
     "text": [
      "C:\\Users\\laury\\AppData\\Local\\Temp\\ipykernel_1728\\1185191031.py:3: FutureWarning:\n",
      "\n",
      "Series.__getitem__ treating keys as positions is deprecated. In a future version, integer keys will always be treated as labels (consistent with DataFrame behavior). To access a value by position, use `ser.iloc[pos]`\n",
      "\n",
      "C:\\Users\\laury\\AppData\\Local\\Temp\\ipykernel_1728\\1185191031.py:4: FutureWarning:\n",
      "\n",
      "Series.__getitem__ treating keys as positions is deprecated. In a future version, integer keys will always be treated as labels (consistent with DataFrame behavior). To access a value by position, use `ser.iloc[pos]`\n",
      "\n"
     ]
    },
    {
     "data": {
      "text/html": [
       "<div>\n",
       "<style scoped>\n",
       "    .dataframe tbody tr th:only-of-type {\n",
       "        vertical-align: middle;\n",
       "    }\n",
       "\n",
       "    .dataframe tbody tr th {\n",
       "        vertical-align: top;\n",
       "    }\n",
       "\n",
       "    .dataframe thead th {\n",
       "        text-align: right;\n",
       "    }\n",
       "</style>\n",
       "<table border=\"1\" class=\"dataframe\">\n",
       "  <thead>\n",
       "    <tr style=\"text-align: right;\">\n",
       "      <th></th>\n",
       "      <th>Algorithm</th>\n",
       "      <th>Seconds per Case</th>\n",
       "      <th>Seconds per Event</th>\n",
       "    </tr>\n",
       "  </thead>\n",
       "  <tbody>\n",
       "    <tr>\n",
       "      <th>0</th>\n",
       "      <td>LCDD</td>\n",
       "      <td>0.000052</td>\n",
       "      <td>0.000002</td>\n",
       "    </tr>\n",
       "  </tbody>\n",
       "</table>\n",
       "</div>"
      ],
      "text/plain": [
       "  Algorithm  Seconds per Case  Seconds per Event\n",
       "0      LCDD          0.000052           0.000002"
      ]
     },
     "execution_count": 74,
     "metadata": {},
     "output_type": "execute_result"
    }
   ],
   "source": [
    "df_seconds = df.copy()\n",
    "# Add Log Length Column\n",
    "df_seconds[\"Log Length (Cases)\"] = df_seconds[[\"Log Source\", \"Log\"]].apply(axis=1, func=lambda x: loglengths[Path(\"EvaluationLogs\", x[0], x[1]+\".xes.gz\")])\n",
    "df_seconds[\"Log Length (Events)\"] = df_seconds[[\"Log Source\", \"Log\"]].apply(axis=1, func=lambda x: loglengths_events[Path(\"EvaluationLogs\", x[0], x[1]+\".xes.gz\")])\n",
    "\n",
    "seconds_per_case = dict()\n",
    "seconds_per_event = dict()\n",
    "\n",
    "for name, group in df_seconds.groupby(\"Algorithm\"):\n",
    "    total_seconds = group[\"Duration (Seconds)\"].sum()\n",
    "\n",
    "    total_cases = group[\"Log Length (Cases)\"].sum()\n",
    "    total_events = group[\"Log Length (Events)\"].sum()\n",
    "\n",
    "    seconds_per_case[name] = total_seconds / total_cases\n",
    "    seconds_per_event[name] = total_seconds / total_events\n",
    "\n",
    "pd.DataFrame([{'Algorithm': name, 'Seconds per Case': seconds_per_case[name], 'Seconds per Event': seconds_per_event[name]} for name in seconds_per_case.keys()]).sort_values(by=\"Algorithm\", ascending=True)"
   ]
  },
  {
   "cell_type": "code",
   "execution_count": null,
   "metadata": {},
   "outputs": [
    {
     "data": {
      "text/html": [
       "<div>\n",
       "<style scoped>\n",
       "    .dataframe tbody tr th:only-of-type {\n",
       "        vertical-align: middle;\n",
       "    }\n",
       "\n",
       "    .dataframe tbody tr th {\n",
       "        vertical-align: top;\n",
       "    }\n",
       "\n",
       "    .dataframe thead th {\n",
       "        text-align: right;\n",
       "    }\n",
       "</style>\n",
       "<table border=\"1\" class=\"dataframe\">\n",
       "  <thead>\n",
       "    <tr style=\"text-align: right;\">\n",
       "      <th></th>\n",
       "      <th>Duration (Seconds)</th>\n",
       "      <th>Log Length (Events)</th>\n",
       "      <th>Milliseconds per Event</th>\n",
       "    </tr>\n",
       "  </thead>\n",
       "  <tbody>\n",
       "    <tr>\n",
       "      <th>3</th>\n",
       "      <td>0.018416</td>\n",
       "      <td>10438</td>\n",
       "      <td>0.001764</td>\n",
       "    </tr>\n",
       "    <tr>\n",
       "      <th>5</th>\n",
       "      <td>0.010469</td>\n",
       "      <td>10085</td>\n",
       "      <td>0.001038</td>\n",
       "    </tr>\n",
       "    <tr>\n",
       "      <th>6</th>\n",
       "      <td>0.105333</td>\n",
       "      <td>94114</td>\n",
       "      <td>0.001119</td>\n",
       "    </tr>\n",
       "    <tr>\n",
       "      <th>8</th>\n",
       "      <td>0.091701</td>\n",
       "      <td>58838</td>\n",
       "      <td>0.001559</td>\n",
       "    </tr>\n",
       "    <tr>\n",
       "      <th>9</th>\n",
       "      <td>0.017223</td>\n",
       "      <td>10334</td>\n",
       "      <td>0.001667</td>\n",
       "    </tr>\n",
       "  </tbody>\n",
       "</table>\n",
       "</div>"
      ],
      "text/plain": [
       "   Duration (Seconds)  Log Length (Events)  Milliseconds per Event\n",
       "3            0.018416                10438                0.001764\n",
       "5            0.010469                10085                0.001038\n",
       "6            0.105333                94114                0.001119\n",
       "8            0.091701                58838                0.001559\n",
       "9            0.017223                10334                0.001667"
      ]
     },
     "execution_count": 75,
     "metadata": {},
     "output_type": "execute_result"
    }
   ],
   "source": [
    "df_seconds[\"Milliseconds per Event\"] = df_seconds.apply(lambda x: (x[\"Duration (Seconds)\"]*1000) / x[\"Log Length (Events)\"], axis=1)\n",
    "df_seconds[[\"Duration (Seconds)\", \"Log Length (Events)\", \"Milliseconds per Event\"]].head()"
   ]
  },
  {
   "attachments": {},
   "cell_type": "markdown",
   "metadata": {},
   "source": [
    "### Plot Boxplot and Barplot of milliseconds per event"
   ]
  },
  {
   "cell_type": "code",
   "execution_count": null,
   "metadata": {},
   "outputs": [
    {
     "name": "stderr",
     "output_type": "stream",
     "text": [
      "C:\\Users\\laury\\AppData\\Local\\Temp\\ipykernel_1728\\808963279.py:5: FutureWarning:\n",
      "\n",
      "\n",
      "\n",
      "Passing `palette` without assigning `hue` is deprecated and will be removed in v0.14.0. Assign the `y` variable to `hue` and set `legend=False` for the same effect.\n",
      "\n",
      "\n",
      "C:\\Users\\laury\\AppData\\Local\\Temp\\ipykernel_1728\\808963279.py:5: UserWarning:\n",
      "\n",
      "The palette list has more values (8) than needed (1), which may not be intended.\n",
      "\n"
     ]
    },
    {
     "data": {
      "image/png": "[encoded data removed]",
      "text/plain": [
       "<Figure size 1000x500 with 1 Axes>"
      ]
     },
     "metadata": {},
     "output_type": "display_data"
    }
   ],
   "source": [
    "fig, ax = plt.subplots(figsize=(10, 5))\n",
    "ax.set_xlabel(\"Milliseconds per Event\")\n",
    "\n",
    "\n",
    "ax = sns.boxplot(\n",
    "    data=df_seconds,\n",
    "    order=ALPHA_SORT_NAMES,\n",
    "    x=\"Milliseconds per Event\",\n",
    "    y=\"Algorithm\",\n",
    "    palette = palette,\n",
    "    width=1,\n",
    "    ax=ax,\n",
    "    fliersize=0\n",
    "\n",
    ")\n",
    "\n",
    "ax.set_xscale(\"log\")\n",
    "\n",
    "ax.spines.right.set_visible(False)\n",
    "ax.spines.top.set_visible(False)\n",
    "ax.tick_params(labelsize=16)\n",
    "ax.set_xlabel(ax.get_xlabel(), size = 18)\n",
    "ax.set_ylabel(ax.get_ylabel(), size = 18)\n",
    "plt.xlabel(\"Milliseconds per Event\")\n",
    "\n",
    "if not os.path.exists(f\"{OUT_PATH}/Scalability{LAG_WINDOW}\"):\n",
    "    os.makedirs(f\"{OUT_PATH}/Scalability{LAG_WINDOW}\")\n",
    "plt.savefig(f\"{OUT_PATH}/Scalability{LAG_WINDOW}/scalability_mseconds_per_event.pdf\", bbox_inches=\"tight\", format=\"pdf\")\n",
    "plt.show()"
   ]
  },
  {
   "cell_type": "code",
   "execution_count": null,
   "metadata": {},
   "outputs": [
    {
     "name": "stderr",
     "output_type": "stream",
     "text": [
      "C:\\Users\\laury\\AppData\\Local\\Temp\\ipykernel_1728\\2255514799.py:3: FutureWarning:\n",
      "\n",
      "\n",
      "\n",
      "Passing `palette` without assigning `hue` is deprecated and will be removed in v0.14.0. Assign the `x` variable to `hue` and set `legend=False` for the same effect.\n",
      "\n",
      "\n",
      "C:\\Users\\laury\\AppData\\Local\\Temp\\ipykernel_1728\\2255514799.py:3: UserWarning:\n",
      "\n",
      "The palette list has more values (8) than needed (1), which may not be intended.\n",
      "\n"
     ]
    },
    {
     "data": {
      "image/png": "[encoded data removed]",
      "text/plain": [
       "<Figure size 1200x400 with 1 Axes>"
      ]
     },
     "metadata": {},
     "output_type": "display_data"
    }
   ],
   "source": [
    "ax = plt.subplots(figsize=(17, 4))\n",
    "\n",
    "ax = sns.barplot(x=\"Algorithm\", y=\"Milliseconds per Event\", data=df_seconds, palette = palette, order=ALPHA_SORT_NAMES)\n",
    "ax.figure.set_size_inches(12, 4)\n",
    "ax.spines.right.set_visible(False)\n",
    "ax.spines.top.set_visible(False)\n",
    "ax.tick_params(labelsize=16)\n",
    "ax.set_xlabel(ax.get_xlabel(), size = 18)\n",
    "ax.set_ylabel(ax.get_ylabel(), size = 18)\n",
    "ax.set_yscale(\"log\")\n",
    "plt.ylabel(\"Milliseconds per Event\")\n",
    "\n",
    "if not os.path.exists(f\"{OUT_PATH}/Scalability{LAG_WINDOW}\"):\n",
    "    os.makedirs(f\"{OUT_PATH}/Scalability{LAG_WINDOW}\")\n",
    "plt.savefig(f\"{OUT_PATH}/Scalability{LAG_WINDOW}/scalability_mseconds_per_event_barplot.pdf\", bbox_inches=\"tight\", format=\"pdf\")\n",
    "plt.show()"
   ]
  },
  {
   "cell_type": "markdown",
   "metadata": {},
   "source": [
    "## Parameter Sensitivity\n",
    "- For each Parameter setting, harmonic mean of *accuracy*, *latency*, and *versatility*\n",
    "  - &rarr; Visualize the variance, etc., with a boxplot\n",
    "- Only noiseless logs again"
   ]
  },
  {
   "cell_type": "code",
   "execution_count": null,
   "metadata": {},
   "outputs": [
    {
     "name": "stderr",
     "output_type": "stream",
     "text": [
      "C:\\Users\\laury\\AppData\\Local\\Programs\\Python\\Python313\\Lib\\statistics.py:613: RuntimeWarning:\n",
      "\n",
      "divide by zero encountered in scalar divide\n",
      "\n"
     ]
    }
   ],
   "source": [
    "versatility_score_per_param = {\n",
    "    name: {\n",
    "        params: np.nanmean(list(versatility_recall_dicts[name][params].values()))\n",
    "        for params in versatility_recall_dicts[name].keys()\n",
    "    }\n",
    "    for name in versatility_recall_dicts.keys()\n",
    "}\n",
    "\n",
    "\n",
    "sensitivities = dict()\n",
    "for name in df[\"Algorithm\"].unique():\n",
    "    _sensitivities = dict()\n",
    "    acc = computed_accuracy_dicts[name]\n",
    "    lat = scaled_latency_dicts[name]\n",
    "    vers = versatility_score_per_param[name]\n",
    "    for param_choice in acc.keys():\n",
    "        sensitivity = harmonic_mean([acc[param_choice], vers[param_choice], lat[param_choice]])\n",
    "        _sensitivities[param_choice] = sensitivity\n",
    "    sensitivities[name] = _sensitivities\n"
   ]
  },
  {
   "cell_type": "code",
   "execution_count": null,
   "metadata": {},
   "outputs": [
    {
     "name": "stderr",
     "output_type": "stream",
     "text": [
      "C:\\Users\\laury\\AppData\\Local\\Temp\\ipykernel_1728\\765449935.py:13: FutureWarning:\n",
      "\n",
      "\n",
      "\n",
      "Passing `palette` without assigning `hue` is deprecated and will be removed in v0.14.0. Assign the `y` variable to `hue` and set `legend=False` for the same effect.\n",
      "\n",
      "\n",
      "C:\\Users\\laury\\AppData\\Local\\Temp\\ipykernel_1728\\765449935.py:13: UserWarning:\n",
      "\n",
      "The palette list has more values (8) than needed (1), which may not be intended.\n",
      "\n"
     ]
    },
    {
     "data": {
      "image/png": "[encoded data removed]",
      "text/plain": [
       "<Figure size 700x400 with 1 Axes>"
      ]
     },
     "metadata": {},
     "output_type": "display_data"
    }
   ],
   "source": [
    "sens_df = pd.DataFrame([\n",
    "    {\n",
    "        \"Parameters\": param,\n",
    "        \"Algorithm\": name,\n",
    "        \"Sensitivity Score\": sens\n",
    "    }\n",
    "    for name, sens_dict in sensitivities.items()\n",
    "    for param, sens in sens_dict.items()\n",
    "])\n",
    "import seaborn as sns\n",
    "\n",
    "fig, ax = plt.subplots(figsize=(10, 5))\n",
    "ax = sns.boxplot(\n",
    "    data=sens_df,\n",
    "    x=\"Sensitivity Score\",\n",
    "    y=\"Algorithm\",\n",
    "    palette = palette,\n",
    "    ax=ax,\n",
    "    fliersize=0,\n",
    "    order=ALPHA_SORT_NAMES\n",
    ")\n",
    "ax.figure.set_size_inches(7, 4)\n",
    "ax.spines.right.set_visible(False)\n",
    "ax.spines.top.set_visible(False)\n",
    "ax.tick_params(labelsize=16)\n",
    "ax.set_xlabel(\"Performance\", size = 18)\n",
    "ax.set_ylabel(ax.get_ylabel(), size = 18)\n",
    "\n",
    "if not os.path.exists(f\"{OUT_PATH}/Parameter_Sensitivity{LAG_WINDOW}\"):\n",
    "    os.makedirs(f\"{OUT_PATH}/Parameter_Sensitivity{LAG_WINDOW}\")\n",
    "plt.savefig(f\"{OUT_PATH}/Parameter_Sensitivity{LAG_WINDOW}/param_sensitivity.pdf\", bbox_inches=\"tight\", format=\"pdf\")\n",
    "plt.show()"
   ]
  },
  {
   "cell_type": "code",
   "execution_count": null,
   "metadata": {},
   "outputs": [
    {
     "data": {
      "text/html": [
       "<div>\n",
       "<style scoped>\n",
       "    .dataframe tbody tr th:only-of-type {\n",
       "        vertical-align: middle;\n",
       "    }\n",
       "\n",
       "    .dataframe tbody tr th {\n",
       "        vertical-align: top;\n",
       "    }\n",
       "\n",
       "    .dataframe thead th {\n",
       "        text-align: right;\n",
       "    }\n",
       "</style>\n",
       "<table border=\"1\" class=\"dataframe\">\n",
       "  <thead>\n",
       "    <tr style=\"text-align: right;\">\n",
       "      <th></th>\n",
       "      <th>Algorithm</th>\n",
       "      <th>Inner-Quartile Range</th>\n",
       "    </tr>\n",
       "  </thead>\n",
       "  <tbody>\n",
       "    <tr>\n",
       "      <th>0</th>\n",
       "      <td>LCDD</td>\n",
       "      <td>0.231666</td>\n",
       "    </tr>\n",
       "  </tbody>\n",
       "</table>\n",
       "</div>"
      ],
      "text/plain": [
       "  Algorithm  Inner-Quartile Range\n",
       "0      LCDD              0.231666"
      ]
     },
     "execution_count": 80,
     "metadata": {},
     "output_type": "execute_result"
    }
   ],
   "source": [
    "# Inter Quartile Range\n",
    "sensitivity_iqrs = dict()\n",
    "for name, sens in sensitivities.items():\n",
    "    _iqr = iqr(list(sens.values()), nan_policy=\"omit\")\n",
    "    sensitivity_iqrs[name] = _iqr\n",
    "\n",
    "pd.DataFrame([{'Algorithm': name, 'Inner-Quartile Range': sensitivity_iqrs[name]} for name in sensitivity_iqrs.keys()]).sort_values(by=\"Algorithm\", ascending=True)"
   ]
  },
  {
   "cell_type": "markdown",
   "metadata": {},
   "source": [
    "## Robustness"
   ]
  },
  {
   "cell_type": "markdown",
   "metadata": {},
   "source": [
    "### Preprocessing"
   ]
  },
  {
   "cell_type": "code",
   "execution_count": null,
   "metadata": {},
   "outputs": [
    {
     "data": {
      "text/html": [
       "<div>\n",
       "<style scoped>\n",
       "    .dataframe tbody tr th:only-of-type {\n",
       "        vertical-align: middle;\n",
       "    }\n",
       "\n",
       "    .dataframe tbody tr th {\n",
       "        vertical-align: top;\n",
       "    }\n",
       "\n",
       "    .dataframe thead th {\n",
       "        text-align: right;\n",
       "    }\n",
       "</style>\n",
       "<table border=\"1\" class=\"dataframe\">\n",
       "  <thead>\n",
       "    <tr style=\"text-align: right;\">\n",
       "      <th></th>\n",
       "      <th>Algorithm</th>\n",
       "      <th>Log Source</th>\n",
       "      <th>Log</th>\n",
       "      <th>Change Pattern</th>\n",
       "      <th>Noise Level</th>\n",
       "    </tr>\n",
       "  </thead>\n",
       "  <tbody>\n",
       "    <tr>\n",
       "      <th>3</th>\n",
       "      <td>LCDD</td>\n",
       "      <td>Ceravolo</td>\n",
       "      <td>sudden_trace_noise10_1000_rp</td>\n",
       "      <td>rp</td>\n",
       "      <td>10</td>\n",
       "    </tr>\n",
       "    <tr>\n",
       "      <th>5</th>\n",
       "      <td>LCDD</td>\n",
       "      <td>Ceravolo</td>\n",
       "      <td>sudden_trace_noise15_1000_sw</td>\n",
       "      <td>sw</td>\n",
       "      <td>15</td>\n",
       "    </tr>\n",
       "    <tr>\n",
       "      <th>6</th>\n",
       "      <td>LCDD</td>\n",
       "      <td>Ostovar</td>\n",
       "      <td>Atomic_ParallelRemoval_output_ParallelRemoval_5</td>\n",
       "      <td>pre</td>\n",
       "      <td>5</td>\n",
       "    </tr>\n",
       "    <tr>\n",
       "      <th>9</th>\n",
       "      <td>LCDD</td>\n",
       "      <td>Ceravolo</td>\n",
       "      <td>sudden_trace_noise15_1000_cf</td>\n",
       "      <td>cf</td>\n",
       "      <td>15</td>\n",
       "    </tr>\n",
       "    <tr>\n",
       "      <th>10</th>\n",
       "      <td>LCDD</td>\n",
       "      <td>Ostovar</td>\n",
       "      <td>Atomic_ParallelToSequence_output_ParallelToSeq...</td>\n",
       "      <td>pl</td>\n",
       "      <td>5</td>\n",
       "    </tr>\n",
       "    <tr>\n",
       "      <th>...</th>\n",
       "      <td>...</td>\n",
       "      <td>...</td>\n",
       "      <td>...</td>\n",
       "      <td>...</td>\n",
       "      <td>...</td>\n",
       "    </tr>\n",
       "    <tr>\n",
       "      <th>7387</th>\n",
       "      <td>LCDD</td>\n",
       "      <td>Ostovar</td>\n",
       "      <td>Atomic_Substitute_output_Substitute</td>\n",
       "      <td>rp</td>\n",
       "      <td>0</td>\n",
       "    </tr>\n",
       "    <tr>\n",
       "      <th>7390</th>\n",
       "      <td>LCDD</td>\n",
       "      <td>Ostovar</td>\n",
       "      <td>Atomic_ConditionalToSequence_output_Conditiona...</td>\n",
       "      <td>cf</td>\n",
       "      <td>2</td>\n",
       "    </tr>\n",
       "    <tr>\n",
       "      <th>7391</th>\n",
       "      <td>LCDD</td>\n",
       "      <td>Ceravolo</td>\n",
       "      <td>sudden_trace_noise10_1000_re</td>\n",
       "      <td>re</td>\n",
       "      <td>10</td>\n",
       "    </tr>\n",
       "    <tr>\n",
       "      <th>7394</th>\n",
       "      <td>LCDD</td>\n",
       "      <td>Ostovar</td>\n",
       "      <td>Atomic_ConditionalRemoval_output_ConditionalRe...</td>\n",
       "      <td>cre</td>\n",
       "      <td>0</td>\n",
       "    </tr>\n",
       "    <tr>\n",
       "      <th>7398</th>\n",
       "      <td>LCDD</td>\n",
       "      <td>Ostovar</td>\n",
       "      <td>Atomic_ConditionalRemoval_output_ConditionalRe...</td>\n",
       "      <td>cre</td>\n",
       "      <td>0</td>\n",
       "    </tr>\n",
       "  </tbody>\n",
       "</table>\n",
       "<p>4361 rows × 5 columns</p>\n",
       "</div>"
      ],
      "text/plain": [
       "     Algorithm Log Source                                                Log  \\\n",
       "3         LCDD   Ceravolo                       sudden_trace_noise10_1000_rp   \n",
       "5         LCDD   Ceravolo                       sudden_trace_noise15_1000_sw   \n",
       "6         LCDD    Ostovar    Atomic_ParallelRemoval_output_ParallelRemoval_5   \n",
       "9         LCDD   Ceravolo                       sudden_trace_noise15_1000_cf   \n",
       "10        LCDD    Ostovar  Atomic_ParallelToSequence_output_ParallelToSeq...   \n",
       "...        ...        ...                                                ...   \n",
       "7387      LCDD    Ostovar                Atomic_Substitute_output_Substitute   \n",
       "7390      LCDD    Ostovar  Atomic_ConditionalToSequence_output_Conditiona...   \n",
       "7391      LCDD   Ceravolo                       sudden_trace_noise10_1000_re   \n",
       "7394      LCDD    Ostovar  Atomic_ConditionalRemoval_output_ConditionalRe...   \n",
       "7398      LCDD    Ostovar  Atomic_ConditionalRemoval_output_ConditionalRe...   \n",
       "\n",
       "     Change Pattern Noise Level  \n",
       "3                rp          10  \n",
       "5                sw          15  \n",
       "6               pre           5  \n",
       "9                cf          15  \n",
       "10               pl           5  \n",
       "...             ...         ...  \n",
       "7387             rp           0  \n",
       "7390             cf           2  \n",
       "7391             re          10  \n",
       "7394            cre           0  \n",
       "7398            cre           0  \n",
       "\n",
       "[4361 rows x 5 columns]"
      ]
     },
     "execution_count": 81,
     "metadata": {},
     "output_type": "execute_result"
    }
   ],
   "source": [
    "# # Only use the Ceravolo and Ostovar Logs as Bose has only 1 log, i.e., no noise levels\n",
    "df_robust = df[df[\"Log Source\"].isin([\"Ceravolo\", \"Ostovar\"])].copy(deep=True)\n",
    "df_robust[['Algorithm', 'Log Source', 'Log', 'Change Pattern', 'Noise Level']]"
   ]
  },
  {
   "cell_type": "markdown",
   "metadata": {},
   "source": [
    "### Calculate Harmonic Means"
   ]
  },
  {
   "cell_type": "code",
   "execution_count": null,
   "metadata": {},
   "outputs": [],
   "source": [
    "def calc_robustnesses(dataframe, lag_window):\n",
    "    robustnesses = dict()\n",
    "\n",
    "    for noise_level, noise_df in dataframe.groupby(\"Noise Level\"):\n",
    "        # Calculate accuracy over these logs\n",
    "        accuracies, _, _, _, _ = calculate_accuracy_metric_df(noise_df, lag_window, verbose=False)\n",
    "        latencies, _, _, _ = calculate_latency(noise_df, lag_window, min_support=MIN_SUPPORT, verbose=False)\n",
    "        versatilities, _, _ = calc_versatility(noise_df, lag_window, verbose=False)\n",
    "\n",
    "        assert accuracies.keys() == latencies.keys() == versatilities.keys()\n",
    "\n",
    "        robustnesses[noise_level] = {\n",
    "            approach: harmonic_mean([accuracies[approach], latencies[approach], versatilities[approach]])\n",
    "            for approach in accuracies.keys()\n",
    "        }\n",
    "    return robustnesses\n",
    "\n",
    "means_ceravolo = calc_robustnesses(df_robust[df_robust[\"Log Source\"] == \"Ceravolo\"], LAG_WINDOW)\n",
    "means_ostovar = calc_robustnesses(df_robust[df_robust[\"Log Source\"] == \"Ostovar\"], LAG_WINDOW)\n"
   ]
  },
  {
   "cell_type": "code",
   "execution_count": null,
   "metadata": {},
   "outputs": [
    {
     "data": {
      "image/png": "[encoded data removed]",
      "text/plain": [
       "<Figure size 640x480 with 1 Axes>"
      ]
     },
     "metadata": {},
     "output_type": "display_data"
    }
   ],
   "source": [
    "plot_df_robust = pd.DataFrame(\n",
    "    ([\n",
    "        {\n",
    "            \"Log Set\": \"Ostovar\",\n",
    "            \"Approach\": name,\n",
    "            \"Noise Level\": int(noise_level),\n",
    "            \"Robustness\": robustness\n",
    "        }\n",
    "        for noise_level, robust_dict  in means_ostovar.items()\n",
    "        for name, robustness in robust_dict.items()\n",
    "    ] + [\n",
    "        {\n",
    "            \"Log Set\": \"Ceravolo\",\n",
    "            \"Approach\": name,\n",
    "            \"Noise Level\": int(noise_level),\n",
    "            \"Robustness\": robustness\n",
    "        }\n",
    "        for noise_level, robust_dict  in means_ceravolo.items()\n",
    "        for name, robustness in robust_dict.items()\n",
    "    ])\n",
    ")\n",
    "\n",
    "ax = sns.pointplot(x=\"Noise Level\", y=\"Robustness\", hue=\"Approach\", data=plot_df_robust[plot_df_robust[\"Log Set\"] == \"Ceravolo\"], errorbar=None)\n",
    "sns.move_legend(ax, \"upper left\", bbox_to_anchor=(1, 1))\n",
    "ax.set_ylim(0,1)\n",
    "plt.show()"
   ]
  },
  {
   "cell_type": "markdown",
   "metadata": {},
   "source": [
    "### Compute AUC"
   ]
  },
  {
   "cell_type": "code",
   "execution_count": null,
   "metadata": {},
   "outputs": [],
   "source": [
    "# Calculate AUC Thing\n",
    "def convert_harm_mean_to_auc(means, div_zero_default=0):\n",
    "    ## Conventions:\n",
    "        # If any harmonic mean is nan, then set it to 0 instead\n",
    "\n",
    "\n",
    "    def _convert_nan_to_zero(x):\n",
    "        if np.isnan(x):\n",
    "            x = 0\n",
    "        return x\n",
    "\n",
    "    # means maps {noise_level: {approach: robustness}}\n",
    "    # reformat to {approach: [(noise_level, robustness)]}\n",
    "    means = {\n",
    "        approach: [\n",
    "            (int(noise_level), _convert_nan_to_zero(means[noise_level][approach]))\n",
    "            for noise_level in means.keys()\n",
    "        ]\n",
    "        for approach in means[\"0\"].keys()\n",
    "    }\n",
    "\n",
    "    robustnesses = dict()\n",
    "    for approach in means.keys():\n",
    "        points = sorted(means[approach], key=lambda x: x[0])\n",
    "\n",
    "        # Initial Robustness - Use to model \"Ideal Robustness\"\n",
    "        initial_robustness = points[0][1] # Robustness for lowest (0%) noise\n",
    "        ideal_auc = initial_robustness * (points[-1][0] - points[0][0]) # AUC if it was always exactly as good as for the lowest noise level. If performance increases with higher noise, the achieved AUC might be larger than ideal AUC\n",
    "        prev_noise, prev_robust = points[0]\n",
    "        auc = 0\n",
    "        for noise, robust in points[1:]:\n",
    "            delta_noise = noise-prev_noise\n",
    "            sum_robust = prev_robust+robust\n",
    "\n",
    "            # \"ROC Index\"\n",
    "            area = (delta_noise * sum_robust) / 2# Area under curve for this segment\n",
    "            auc += area\n",
    "\n",
    "            prev_noise = noise\n",
    "            prev_robust = robust\n",
    "\n",
    "        if ideal_auc != 0:\n",
    "            robustnesses[approach] = auc / ideal_auc\n",
    "        else:\n",
    "            robustnesses[approach] = div_zero_default\n",
    "    return robustnesses\n",
    "\n",
    "robustness_ceravolo = convert_harm_mean_to_auc(means_ceravolo)\n",
    "robustness_ostovar = convert_harm_mean_to_auc(means_ostovar)"
   ]
  },
  {
   "cell_type": "markdown",
   "metadata": {},
   "source": [
    "### Calculate Final Robustness Score by Calculating mean of Ceravolo and Ostovar"
   ]
  },
  {
   "cell_type": "code",
   "execution_count": null,
   "metadata": {},
   "outputs": [
    {
     "data": {
      "text/html": [
       "<div>\n",
       "<style scoped>\n",
       "    .dataframe tbody tr th:only-of-type {\n",
       "        vertical-align: middle;\n",
       "    }\n",
       "\n",
       "    .dataframe tbody tr th {\n",
       "        vertical-align: top;\n",
       "    }\n",
       "\n",
       "    .dataframe thead th {\n",
       "        text-align: right;\n",
       "    }\n",
       "</style>\n",
       "<table border=\"1\" class=\"dataframe\">\n",
       "  <thead>\n",
       "    <tr style=\"text-align: right;\">\n",
       "      <th></th>\n",
       "      <th>Algorithm</th>\n",
       "      <th>Robustness</th>\n",
       "    </tr>\n",
       "  </thead>\n",
       "  <tbody>\n",
       "    <tr>\n",
       "      <th>0</th>\n",
       "      <td>LCDD</td>\n",
       "      <td>0.990769</td>\n",
       "    </tr>\n",
       "  </tbody>\n",
       "</table>\n",
       "</div>"
      ],
      "text/plain": [
       "  Algorithm  Robustness\n",
       "0      LCDD    0.990769"
      ]
     },
     "execution_count": 85,
     "metadata": {},
     "output_type": "execute_result"
    }
   ],
   "source": [
    "assert robustness_ceravolo.keys() == robustness_ostovar.keys() # This should always be the case..\n",
    "robustnesses = {\n",
    "    name: (robustness_ceravolo[name] + robustness_ostovar[name]) / 2\n",
    "    for name in robustness_ceravolo.keys()\n",
    "}\n",
    "\n",
    "pd.DataFrame([{'Algorithm': name, 'Robustness': robustnesses[name]} for name in robustnesses.keys()]).sort_values(by=\"Algorithm\", ascending=True)\n"
   ]
  },
  {
   "cell_type": "code",
   "execution_count": null,
   "metadata": {},
   "outputs": [
    {
     "data": {
      "image/png": "[encoded data removed]",
      "text/plain": [
       "<Figure size 1200x600 with 8 Axes>"
      ]
     },
     "metadata": {},
     "output_type": "display_data"
    },
    {
     "data": {
      "image/png": "[encoded data removed]",
      "text/plain": [
       "<Figure size 1200x600 with 8 Axes>"
      ]
     },
     "metadata": {},
     "output_type": "display_data"
    }
   ],
   "source": [
    "def plot_robustness(robustness_df, logset:str, color_map):\n",
    "    fig, axs = plt.subplots(2,4, figsize=(12,6))\n",
    "    #fig.suptitle(f\"Robustness of Approaches for {logset} Logs\")\n",
    "    \n",
    "    for idx, name in enumerate(robustness_df[\"Approach\"].unique()):\n",
    "        row_offset = idx // 4\n",
    "        col_offset = idx % 4\n",
    "        ax = axs[row_offset, col_offset]\n",
    "        relevant_df = robustness_df[(robustness_df[\"Approach\"] == name) & (robustness_df[\"Log Set\"] == logset)]\n",
    "        sns.pointplot(x=\"Noise Level\", y=\"Robustness\", data=relevant_df, errorbar=None,color= color_map[name], ax=ax)#, title=name)\n",
    "        ax.set_ylim(0,1)\n",
    "        ax.set_title(name, size = 16)\n",
    "        ax.spines.right.set_visible(False)\n",
    "        ax.spines.top.set_visible(False)\n",
    "        ax.tick_params(labelsize=16)\n",
    "        ax.set_xlabel(ax.get_xlabel() if row_offset == 1 else \"\", size = 18)\n",
    "        ax.set_ylabel(\"Performance\" if col_offset == 0 else \"\", size = 18)\n",
    "        robustness_of_zero_noise = min(zip(relevant_df[\"Noise Level\"], relevant_df[\"Robustness\"]), key=lambda x: x[0])[1]\n",
    "        if np.isnan(robustness_of_zero_noise):\n",
    "            robustness_of_zero_noise = 0\n",
    "        # plt.axhline(y=robustness_of_zero_noise, color='r', linestyle='-', ax=ax)\n",
    "        ax.hlines(robustness_of_zero_noise, color=color_map[name], linestyle='dashed', xmin=0, xmax=len(relevant_df[\"Noise Level\"].unique())-1)\n",
    "        fig.tight_layout()\n",
    "        #ax.grid()\n",
    "        fig.set_facecolor('0.9')\n",
    "    return fig, axs\n",
    "\n",
    "if not os.path.exists(f\"{OUT_PATH}/Robustness{LAG_WINDOW}\"):\n",
    "    os.makedirs(f\"{OUT_PATH}/Robustness{LAG_WINDOW}\")\n",
    "\n",
    "fig_ostovar, axs_ostovar = plot_robustness(plot_df_robust, \"Ostovar\", color_map)\n",
    "fig_ostovar.savefig(f\"{OUT_PATH}/Robustness{LAG_WINDOW}/robustness_ostovar_logs.pdf\", bbox_inches=\"tight\", format=\"pdf\")\n",
    "plt.show(fig_ostovar)\n",
    "\n",
    "fig_ceravolo, axs_ceravolo = plot_robustness(plot_df_robust, \"Ceravolo\", color_map)\n",
    "fig_ceravolo.savefig(f\"{OUT_PATH}/Robustness{LAG_WINDOW}/robustness_ceravolo_logs.pdf\", bbox_inches=\"tight\", format=\"pdf\")\n",
    "plt.show(fig_ceravolo)"
   ]
  },
  {
   "cell_type": "code",
   "execution_count": null,
   "metadata": {},
   "outputs": [
    {
     "data": {
      "image/png": "[encoded data removed]",
      "text/plain": [
       "<Figure size 500x1200 with 1 Axes>"
      ]
     },
     "metadata": {},
     "output_type": "display_data"
    },
    {
     "data": {
      "image/png": "[encoded data removed]",
      "text/plain": [
       "<Figure size 500x1200 with 1 Axes>"
      ]
     },
     "metadata": {},
     "output_type": "display_data"
    }
   ],
   "source": [
    "def plot_robustness(robustness_df, logset:str, color_map):\n",
    "    \n",
    "    for _, name in enumerate(robustness_df[\"Approach\"].unique()):\n",
    "        relevant_df = robustness_df[(robustness_df[\"Approach\"] == name) & (robustness_df[\"Log Set\"] == logset)]\n",
    "        ax = sns.pointplot(x=\"Noise Level\", y=\"Robustness\", data=relevant_df, errorbar=None,color= color_map[name])#, title=name)\n",
    "        ax.set_ylim(0,1)\n",
    "        ax.figure.set_size_inches(5, 12)\n",
    "        #ax.set_title(logset+\" Logs with Different Noise Levels\", size = 18)\n",
    "        ax.set_xlabel(\"Noise (%)\")\n",
    "        ax.spines.right.set_visible(False)\n",
    "        ax.spines.top.set_visible(False)\n",
    "        ax.tick_params(labelsize=16)\n",
    "        ax.set_xlabel(ax.get_xlabel(), size = 18)\n",
    "        ax.set_ylabel(ax.get_ylabel(), size = 18)\n",
    "        robustness_of_zero_noise = min(zip(relevant_df[\"Noise Level\"], relevant_df[\"Robustness\"]), key=lambda x: x[0])[1]\n",
    "        if np.isnan(robustness_of_zero_noise):\n",
    "            robustness_of_zero_noise = 0\n",
    "        # plt.axhline(y=robustness_of_zero_noise, color='r', linestyle='-', ax=ax)\n",
    "        ax.hlines(robustness_of_zero_noise, color=color_map[name], linestyle='dashed', xmin=0, xmax=len(relevant_df[\"Noise Level\"].unique())-1)\n",
    "    return ax.figure\n",
    "\n",
    "if not os.path.exists(f\"{OUT_PATH}/Robustness{LAG_WINDOW}\"):\n",
    "    os.makedirs(f\"{OUT_PATH}/Robustness{LAG_WINDOW}\")\n",
    "\n",
    "fig_ostovar = plot_robustness(plot_df_robust, \"Ostovar\", color_map)\n",
    "fig_ostovar.savefig(f\"{OUT_PATH}/Robustness{LAG_WINDOW}/robustness_ostovar_logs_all_in_one.pdf\", bbox_inches=\"tight\", format=\"pdf\")\n",
    "plt.show(fig_ostovar)\n",
    "\n",
    "fig_ceravolo = plot_robustness(plot_df_robust, \"Ceravolo\", color_map)\n",
    "fig_ceravolo.savefig(f\"{OUT_PATH}/Robustness{LAG_WINDOW}/robustness_ceravolo_logs_all_in_one.pdf\", bbox_inches=\"tight\", format=\"pdf\")\n",
    "plt.show(fig_ceravolo)"
   ]
  },
  {
   "cell_type": "markdown",
   "metadata": {},
   "source": [
    "## Save Results"
   ]
  },
  {
   "cell_type": "code",
   "execution_count": null,
   "metadata": {},
   "outputs": [
    {
     "data": {
      "text/html": [
       "<div>\n",
       "<style scoped>\n",
       "    .dataframe tbody tr th:only-of-type {\n",
       "        vertical-align: middle;\n",
       "    }\n",
       "\n",
       "    .dataframe tbody tr th {\n",
       "        vertical-align: top;\n",
       "    }\n",
       "\n",
       "    .dataframe thead th {\n",
       "        text-align: right;\n",
       "    }\n",
       "</style>\n",
       "<table border=\"1\" class=\"dataframe\">\n",
       "  <thead>\n",
       "    <tr style=\"text-align: right;\">\n",
       "      <th></th>\n",
       "      <th>Algorithm</th>\n",
       "      <th>Accuracy</th>\n",
       "      <th>Latency</th>\n",
       "      <th>Versatility</th>\n",
       "      <th>Scalability</th>\n",
       "      <th>Milliseconds per Case</th>\n",
       "      <th>Milliseconds per Event</th>\n",
       "      <th>Parameter Sensitivity (IQR)</th>\n",
       "      <th>Robustness</th>\n",
       "    </tr>\n",
       "  </thead>\n",
       "  <tbody>\n",
       "    <tr>\n",
       "      <th>0</th>\n",
       "      <td>LCDD</td>\n",
       "      <td>0.674157</td>\n",
       "      <td>26.0</td>\n",
       "      <td>0.708333</td>\n",
       "      <td>00:00:00</td>\n",
       "      <td>0.05246</td>\n",
       "      <td>0.002012</td>\n",
       "      <td>0.231666</td>\n",
       "      <td>0.990769</td>\n",
       "    </tr>\n",
       "  </tbody>\n",
       "</table>\n",
       "</div>"
      ],
      "text/plain": [
       "  Algorithm  Accuracy  Latency  Versatility Scalability  \\\n",
       "0      LCDD  0.674157     26.0     0.708333    00:00:00   \n",
       "\n",
       "   Milliseconds per Case  Milliseconds per Event  Parameter Sensitivity (IQR)  \\\n",
       "0                0.05246                0.002012                     0.231666   \n",
       "\n",
       "   Robustness  \n",
       "0    0.990769  "
      ]
     },
     "execution_count": 88,
     "metadata": {},
     "output_type": "execute_result"
    }
   ],
   "source": [
    "results_df = pd.DataFrame([\n",
    "    {\n",
    "        \"Algorithm\": name,\n",
    "        \"Accuracy\": accuracies[name],\n",
    "        \"Latency\": (1-latencies[name])*LAG_WINDOW,\n",
    "        \"Versatility\": versatilities[name],\n",
    "        \"Scalability\": scalabilities[name][\"str\"],\n",
    "        \"Milliseconds per Case\": seconds_per_case[name]*1000,\n",
    "        \"Milliseconds per Event\": seconds_per_event[name]*1000,\n",
    "        \"Parameter Sensitivity (IQR)\": sensitivity_iqrs[name],\n",
    "        \"Robustness\": robustnesses[name]\n",
    "    }\n",
    "    for name in df[\"Algorithm\"].unique()\n",
    "])\n",
    "\n",
    "results_df.to_csv(f\"{OUT_PATH}/evaluation_measures{LAG_WINDOW}.csv\", index=False)\n",
    "results_df"
   ]
  }
 ],
 "metadata": {
  "kernelspec": {
   "display_name": "venv",
   "language": "python",
   "name": "python3"
  },
  "language_info": {
   "codemirror_mode": {
    "name": "ipython",
    "version": 3
   },
   "file_extension": ".py",
   "mimetype": "text/x-python",
   "name": "python",
   "nbconvert_exporter": "python",
   "pygments_lexer": "ipython3",
   "version": "3.13.3"
  }
 },
 "nbformat": 4,
 "nbformat_minor": 2
}
